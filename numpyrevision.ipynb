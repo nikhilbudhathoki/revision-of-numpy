{
 "cells": [
  {
   "cell_type": "code",
   "execution_count": 102,
   "id": "51063ae3-057f-4174-88b7-6196b8cb06b4",
   "metadata": {},
   "outputs": [],
   "source": [
    "import numpy as np"
   ]
  },
  {
   "cell_type": "code",
   "execution_count": 103,
   "id": "c0ad06b7-5d43-49c4-a72d-f11c7dbdabc5",
   "metadata": {},
   "outputs": [
    {
     "data": {
      "text/plain": [
       "array([1, 2, 3, 4])"
      ]
     },
     "execution_count": 103,
     "metadata": {},
     "output_type": "execute_result"
    }
   ],
   "source": [
    "a=np.array([1,2,3,4])#making 1d array with list\n",
    "a"
   ]
  },
  {
   "cell_type": "code",
   "execution_count": 104,
   "id": "070f5f6f-f7f1-488e-9958-dea3226d190b",
   "metadata": {},
   "outputs": [
    {
     "data": {
      "text/plain": [
       "array([[1, 2, 3],\n",
       "       [3, 4, 6]])"
      ]
     },
     "execution_count": 104,
     "metadata": {},
     "output_type": "execute_result"
    }
   ],
   "source": [
    "b=np.array([[1,2,3],[3,4,6]])#making 2d array with double big bracket and inner big bracket seperates row\n",
    "b"
   ]
  },
  {
   "cell_type": "markdown",
   "id": "cddd21f0-85a5-4fe9-8a9e-3a49d13ad7ff",
   "metadata": {},
   "source": [
    "### To know dimenison of array"
   ]
  },
  {
   "cell_type": "code",
   "execution_count": 105,
   "id": "c3d7d204-ce74-4b96-a6a8-b496c0bf8aa3",
   "metadata": {},
   "outputs": [
    {
     "data": {
      "text/plain": [
       "2"
      ]
     },
     "execution_count": 105,
     "metadata": {},
     "output_type": "execute_result"
    }
   ],
   "source": [
    "b.ndim"
   ]
  },
  {
   "cell_type": "code",
   "execution_count": null,
   "id": "3b05b5d9-94a9-42e2-8b18-63dcf2f06b5a",
   "metadata": {},
   "outputs": [],
   "source": []
  },
  {
   "cell_type": "markdown",
   "id": "275df1f3-a3bb-49f6-9f94-ff227f1c9c35",
   "metadata": {},
   "source": [
    "### FILLED ARRAY WITH 0S OR 1S"
   ]
  },
  {
   "cell_type": "code",
   "execution_count": 106,
   "id": "cd725e73-ea5d-407a-a2e1-3465d792f2b1",
   "metadata": {},
   "outputs": [
    {
     "data": {
      "text/plain": [
       "array([0., 0., 0., 0.])"
      ]
     },
     "execution_count": 106,
     "metadata": {},
     "output_type": "execute_result"
    }
   ],
   "source": [
    "z=np.zeros(4)#1d\n",
    "z"
   ]
  },
  {
   "cell_type": "code",
   "execution_count": 107,
   "id": "d1b3a3bb-663c-4f2b-8caf-c2e68f70fc13",
   "metadata": {},
   "outputs": [
    {
     "data": {
      "text/plain": [
       "array([[0., 0.],\n",
       "       [0., 0.]])"
      ]
     },
     "execution_count": 107,
     "metadata": {},
     "output_type": "execute_result"
    }
   ],
   "source": [
    "np.zeros((2,2))#2d"
   ]
  },
  {
   "cell_type": "code",
   "execution_count": 108,
   "id": "a65880cf-1b78-4b7a-a177-3bdc56fb8b9b",
   "metadata": {},
   "outputs": [
    {
     "data": {
      "text/plain": [
       "array([[1., 1., 1., 1.],\n",
       "       [1., 1., 1., 1.],\n",
       "       [1., 1., 1., 1.],\n",
       "       [1., 1., 1., 1.]])"
      ]
     },
     "execution_count": 108,
     "metadata": {},
     "output_type": "execute_result"
    }
   ],
   "source": [
    "np.ones((4,4))#for ones"
   ]
  },
  {
   "cell_type": "code",
   "execution_count": null,
   "id": "9c739622-237b-43f5-8f85-dc088e04105a",
   "metadata": {},
   "outputs": [],
   "source": []
  },
  {
   "cell_type": "markdown",
   "id": "b15e760c-1e7c-4542-bdd3-916e1252f660",
   "metadata": {},
   "source": [
    "### EMPTY ARRAY:it can give previous saved value or garbage value near to 0"
   ]
  },
  {
   "cell_type": "code",
   "execution_count": 109,
   "id": "748d0a79-085e-4409-a6a7-efb8eeac642f",
   "metadata": {},
   "outputs": [
    {
     "data": {
      "text/plain": [
       "array([2.12199579e-314, 2.12199579e-314, 4.24399158e-314, 4.24399158e-314,\n",
       "       4.24399158e-314])"
      ]
     },
     "execution_count": 109,
     "metadata": {},
     "output_type": "execute_result"
    }
   ],
   "source": [
    "md=np.empty(5)\n",
    "md"
   ]
  },
  {
   "cell_type": "code",
   "execution_count": null,
   "id": "e2f83b8d-7ffc-4d16-9ae1-45149c7c3c22",
   "metadata": {},
   "outputs": [],
   "source": []
  },
  {
   "cell_type": "code",
   "execution_count": null,
   "id": "43065345-6bff-4f7d-b164-35704005b6dc",
   "metadata": {},
   "outputs": [],
   "source": []
  },
  {
   "cell_type": "markdown",
   "id": "daec21e0-4dca-4cee-ad08-7e2be604f844",
   "metadata": {},
   "source": [
    "### RANGE OF ARRAY:ARANGE"
   ]
  },
  {
   "cell_type": "code",
   "execution_count": 110,
   "id": "3115d3f4-ec03-423d-9f02-fa4f43942d5c",
   "metadata": {},
   "outputs": [
    {
     "data": {
      "text/plain": [
       "array([0, 1, 2, 3, 4])"
      ]
     },
     "execution_count": 110,
     "metadata": {},
     "output_type": "execute_result"
    }
   ],
   "source": [
    "np.arange(5)\n"
   ]
  },
  {
   "cell_type": "code",
   "execution_count": 111,
   "id": "d524d031-f7cb-4e9a-81c1-a80b65340f03",
   "metadata": {},
   "outputs": [
    {
     "data": {
      "text/plain": [
       "array([1, 2, 3, 4, 5])"
      ]
     },
     "execution_count": 111,
     "metadata": {},
     "output_type": "execute_result"
    }
   ],
   "source": [
    "np.arange(1,6)"
   ]
  },
  {
   "cell_type": "code",
   "execution_count": 112,
   "id": "d4403b1e-7248-44a7-874c-246104800206",
   "metadata": {},
   "outputs": [
    {
     "data": {
      "text/plain": [
       "array([1, 3, 5, 7, 9])"
      ]
     },
     "execution_count": 112,
     "metadata": {},
     "output_type": "execute_result"
    }
   ],
   "source": [
    "np.arange(1,10,2)#incuded ,excluded ,step"
   ]
  },
  {
   "cell_type": "code",
   "execution_count": null,
   "id": "32de9d35-cdaf-47e2-9e7e-71a32b471a50",
   "metadata": {},
   "outputs": [],
   "source": []
  },
  {
   "cell_type": "markdown",
   "id": "c8be63cc-dc5d-4701-83a1-928114093c6e",
   "metadata": {},
   "source": [
    "### DIAGONAL"
   ]
  },
  {
   "cell_type": "markdown",
   "id": "ee66704d-910c-4a0d-afd1-373e16fa1027",
   "metadata": {},
   "source": [
    "## unit diagonal matraix"
   ]
  },
  {
   "cell_type": "code",
   "execution_count": 113,
   "id": "5e3d0def-e17e-40b1-a555-eb135767a650",
   "metadata": {},
   "outputs": [
    {
     "data": {
      "text/plain": [
       "array([[1., 0.],\n",
       "       [0., 1.]])"
      ]
     },
     "execution_count": 113,
     "metadata": {},
     "output_type": "execute_result"
    }
   ],
   "source": [
    "np.eye(2)"
   ]
  },
  {
   "cell_type": "code",
   "execution_count": 114,
   "id": "5d321268-987b-4ce2-b66e-fdaade181b93",
   "metadata": {},
   "outputs": [
    {
     "data": {
      "text/plain": [
       "array([[1., 0., 0.],\n",
       "       [0., 1., 0.],\n",
       "       [0., 0., 1.]])"
      ]
     },
     "execution_count": 114,
     "metadata": {},
     "output_type": "execute_result"
    }
   ],
   "source": [
    "np.eye(3)#one parameter can make it as n*n dimension matrix with 1 in it"
   ]
  },
  {
   "cell_type": "code",
   "execution_count": null,
   "id": "9af82f20-6499-40e6-b0eb-244150bbc4bb",
   "metadata": {},
   "outputs": [],
   "source": []
  },
  {
   "cell_type": "code",
   "execution_count": 115,
   "id": "467d0bf5-8f21-4be1-8268-6b9582df8b54",
   "metadata": {},
   "outputs": [
    {
     "data": {
      "text/plain": [
       "array([[1., 0., 0., 0., 0., 0.],\n",
       "       [0., 1., 0., 0., 0., 0.],\n",
       "       [0., 0., 1., 0., 0., 0.]])"
      ]
     },
     "execution_count": 115,
     "metadata": {},
     "output_type": "execute_result"
    }
   ],
   "source": [
    "np.eye(3,6)#gives diagnoal acc to the first arguement \n"
   ]
  },
  {
   "cell_type": "code",
   "execution_count": null,
   "id": "2ea20e13-f0bc-4b1c-b5c9-e20713d9378f",
   "metadata": {},
   "outputs": [],
   "source": []
  },
  {
   "cell_type": "markdown",
   "id": "4e0e6ba7-7db2-472f-9542-9b94ee679431",
   "metadata": {},
   "source": [
    "### linnspace:divide into given parts"
   ]
  },
  {
   "cell_type": "code",
   "execution_count": 116,
   "id": "c16ad33a-4686-4f26-aefb-03ecf1f86dda",
   "metadata": {},
   "outputs": [
    {
     "data": {
      "text/plain": [
       "array([ 1.  ,  3.25,  5.5 ,  7.75, 10.  ])"
      ]
     },
     "execution_count": 116,
     "metadata": {},
     "output_type": "execute_result"
    }
   ],
   "source": [
    "np.linspace(1,10,5)#all are included"
   ]
  },
  {
   "cell_type": "code",
   "execution_count": null,
   "id": "923942b6-3ada-41ac-a9f9-7c6f23285391",
   "metadata": {},
   "outputs": [],
   "source": []
  },
  {
   "cell_type": "markdown",
   "id": "985b4283-7a69-4a1c-93b5-aa91002a6e1c",
   "metadata": {},
   "source": [
    "### RANDOM FUNCTION"
   ]
  },
  {
   "cell_type": "markdown",
   "id": "f6b02e8d-27d7-425d-a9d4-d8ac72658103",
   "metadata": {},
   "source": [
    "### random"
   ]
  },
  {
   "cell_type": "code",
   "execution_count": 117,
   "id": "cdf5618d-5dce-4393-9ba2-cb9f580d0bbb",
   "metadata": {},
   "outputs": [
    {
     "data": {
      "text/plain": [
       "array([0.66950987, 0.07997924, 0.04464783, 0.09519808, 0.21743029,\n",
       "       0.80701655, 0.10038043, 0.06425137, 0.94395067, 0.16287172])"
      ]
     },
     "execution_count": 117,
     "metadata": {},
     "output_type": "execute_result"
    }
   ],
   "source": [
    "np.random.random(10)#close to 0"
   ]
  },
  {
   "cell_type": "markdown",
   "id": "8b73c912-1df1-4d70-a8ed-9ee8edac9649",
   "metadata": {},
   "source": [
    "### to make 2d"
   ]
  },
  {
   "cell_type": "code",
   "execution_count": 118,
   "id": "12094240-45b9-4e75-af7e-6cae351dfb04",
   "metadata": {},
   "outputs": [
    {
     "data": {
      "text/plain": [
       "array([[0.59187365, 0.95035466, 0.36676967, 0.02161869],\n",
       "       [0.5206744 , 0.30701267, 0.83314855, 0.9293686 ],\n",
       "       [0.12893534, 0.83113543, 0.78675315, 0.68964411],\n",
       "       [0.65044111, 0.93729148, 0.23615167, 0.48145994]])"
      ]
     },
     "execution_count": 118,
     "metadata": {},
     "output_type": "execute_result"
    }
   ],
   "source": [
    "np.random.random((4,4))#only positive"
   ]
  },
  {
   "cell_type": "code",
   "execution_count": null,
   "id": "994a670f-ca03-434a-86cd-5322c57d93ee",
   "metadata": {},
   "outputs": [],
   "source": []
  },
  {
   "cell_type": "markdown",
   "id": "0a1ecd84-fdd1-4c65-9074-45bcb4871fb2",
   "metadata": {},
   "source": [
    "### TO PRINT BOTH POSITIVE AND NEGETIVE"
   ]
  },
  {
   "cell_type": "code",
   "execution_count": 119,
   "id": "69f6a1ed-4b45-4707-bf7c-6bb4ea3f95c8",
   "metadata": {},
   "outputs": [
    {
     "data": {
      "text/plain": [
       "array([ 0.72865586, -0.33880365, -2.14863262,  0.75642354])"
      ]
     },
     "execution_count": 119,
     "metadata": {},
     "output_type": "execute_result"
    }
   ],
   "source": [
    "np.random.randn(4)"
   ]
  },
  {
   "cell_type": "code",
   "execution_count": 120,
   "id": "e69a3e4a-6e19-47a8-8637-209227209ec4",
   "metadata": {},
   "outputs": [
    {
     "data": {
      "text/plain": [
       "array([[ 4.44072822e-03,  7.33058988e-01, -8.00029076e-02,\n",
       "         1.67389066e+00, -1.07058672e-02],\n",
       "       [-1.40983997e-01, -4.41365211e-01, -8.18389883e-01,\n",
       "         8.15291324e-01,  8.08435573e-01],\n",
       "       [-2.28452186e-01,  2.86833547e-02,  2.45504266e-01,\n",
       "        -6.28677508e-01,  1.59987243e+00],\n",
       "       [ 5.89161688e-01,  9.46044805e-03,  9.62034460e-01,\n",
       "        -9.85684934e-01,  3.09854759e-01],\n",
       "       [ 2.22493775e+00, -4.63472850e-01,  7.67606063e-01,\n",
       "        -1.46120823e-02, -6.55123966e-05]])"
      ]
     },
     "execution_count": 120,
     "metadata": {},
     "output_type": "execute_result"
    }
   ],
   "source": [
    "np.random.randn(5,5)#no double brackets are needed"
   ]
  },
  {
   "cell_type": "code",
   "execution_count": null,
   "id": "12a1bcb3-4021-4d47-a5bb-0cf998bade27",
   "metadata": {},
   "outputs": [],
   "source": []
  },
  {
   "cell_type": "markdown",
   "id": "db9ab0bf-99d1-454a-af49-ca5722f77bb6",
   "metadata": {},
   "source": [
    "### TO USE with any range WITH RANDOM"
   ]
  },
  {
   "cell_type": "code",
   "execution_count": 121,
   "id": "7deeab59-f73e-4ac5-89f7-24b9e3c17297",
   "metadata": {},
   "outputs": [
    {
     "data": {
      "text/plain": [
       "array([6, 7, 6, 7])"
      ]
     },
     "execution_count": 121,
     "metadata": {},
     "output_type": "execute_result"
    }
   ],
   "source": [
    "np.random.randint(1,10,size=4)"
   ]
  },
  {
   "cell_type": "code",
   "execution_count": 122,
   "id": "b3e82f71-987d-40e7-9b0b-3b0eb3ef454d",
   "metadata": {},
   "outputs": [
    {
     "data": {
      "text/plain": [
       "array([[ 9, 13, 12,  3, 19],\n",
       "       [ 2, 17, 13,  9,  6],\n",
       "       [15, 11, 14, 10, 18],\n",
       "       [ 6,  5, 16,  6, 18],\n",
       "       [17,  6,  3,  1,  6]])"
      ]
     },
     "execution_count": 122,
     "metadata": {},
     "output_type": "execute_result"
    }
   ],
   "source": [
    "np.random.randint(1,20,size=(5,5))"
   ]
  },
  {
   "cell_type": "markdown",
   "id": "66251812-eb3d-4c8e-92f4-55016c9ba86c",
   "metadata": {},
   "source": [
    "### TO NOT MAKING THE DATA TO CHANGE WITH RANDOM USE SEED"
   ]
  },
  {
   "cell_type": "code",
   "execution_count": 123,
   "id": "033ffafc-8f76-424d-81a2-d59f7e0edcab",
   "metadata": {},
   "outputs": [
    {
     "data": {
      "text/plain": [
       "array([8, 6, 2, 9, 8])"
      ]
     },
     "execution_count": 123,
     "metadata": {},
     "output_type": "execute_result"
    }
   ],
   "source": [
    "np.random.seed(4)\n",
    "np.random.randint(1,10,5)"
   ]
  },
  {
   "cell_type": "markdown",
   "id": "837ec5f1-12ba-4f6e-b88e-528e0f620556",
   "metadata": {},
   "source": [
    "### OR USE RANDOMSTATE"
   ]
  },
  {
   "cell_type": "code",
   "execution_count": 124,
   "id": "78c7e57e-e97c-49be-a204-f4c70e82f659",
   "metadata": {},
   "outputs": [
    {
     "data": {
      "text/plain": [
       "array([3, 3, 4, 3, 3])"
      ]
     },
     "execution_count": 124,
     "metadata": {},
     "output_type": "execute_result"
    }
   ],
   "source": [
    "np.random.RandomState(54)\n",
    "np.random.randint(3,5,5)"
   ]
  },
  {
   "cell_type": "code",
   "execution_count": null,
   "id": "645f5e74-169d-4281-8bd3-102b53ec1bb8",
   "metadata": {},
   "outputs": [],
   "source": []
  },
  {
   "cell_type": "markdown",
   "id": "e91cec50-f3a0-4800-84ec-1cdb06e206e8",
   "metadata": {},
   "source": [
    "### CHANGE DATATYPE IN ARRAY"
   ]
  },
  {
   "cell_type": "code",
   "execution_count": 125,
   "id": "cb1799ac-4e3d-4048-a5a9-98cd7198814e",
   "metadata": {},
   "outputs": [
    {
     "data": {
      "text/plain": [
       "dtype('int32')"
      ]
     },
     "execution_count": 125,
     "metadata": {},
     "output_type": "execute_result"
    }
   ],
   "source": [
    "area=np.array([5,4,3,5])\n",
    "area.dtype"
   ]
  },
  {
   "cell_type": "markdown",
   "id": "78366298-c2d3-47da-8a49-d5438f8ecd3f",
   "metadata": {},
   "source": [
    "### EXPLICIT"
   ]
  },
  {
   "cell_type": "code",
   "execution_count": 126,
   "id": "3766f06e-26ff-4ad4-ab48-a9e7702c4c73",
   "metadata": {},
   "outputs": [
    {
     "data": {
      "text/plain": [
       "dtype('float64')"
      ]
     },
     "execution_count": 126,
     "metadata": {},
     "output_type": "execute_result"
    }
   ],
   "source": [
    "area=np.array([5,4.0,3,5])#using one higher dtype makes whole array of higher dtype\n",
    "area.dtype"
   ]
  },
  {
   "cell_type": "markdown",
   "id": "9f739691-9591-4f59-a7a6-e21d37606366",
   "metadata": {},
   "source": [
    "## DTYPE PARAMETER CONVERSION"
   ]
  },
  {
   "cell_type": "code",
   "execution_count": 127,
   "id": "f66706aa-cb71-40d9-8a8c-c9955ddf25a5",
   "metadata": {},
   "outputs": [
    {
     "data": {
      "text/plain": [
       "array([4, 5, 6], dtype=int8)"
      ]
     },
     "execution_count": 127,
     "metadata": {},
     "output_type": "execute_result"
    }
   ],
   "source": [
    "a=np.array([4,5,6],dtype=np.int8)\n",
    "a"
   ]
  },
  {
   "cell_type": "code",
   "execution_count": 128,
   "id": "dfcc983d-eb3a-4d0e-9c9f-4f0b57411f5a",
   "metadata": {},
   "outputs": [
    {
     "data": {
      "text/plain": [
       "array(['4', '5', '6'], dtype='<U11')"
      ]
     },
     "execution_count": 128,
     "metadata": {},
     "output_type": "execute_result"
    }
   ],
   "source": [
    "a1=np.array([4,5,6],dtype='U11')\n",
    "a1"
   ]
  },
  {
   "cell_type": "markdown",
   "id": "64068066-9533-4411-b6b4-d9172a83f543",
   "metadata": {},
   "source": [
    "### another way"
   ]
  },
  {
   "cell_type": "code",
   "execution_count": 129,
   "id": "636e8813-d9d1-47c2-9b07-7e79a8257d64",
   "metadata": {},
   "outputs": [
    {
     "data": {
      "text/plain": [
       "array([4., 5., 6.])"
      ]
     },
     "execution_count": 129,
     "metadata": {},
     "output_type": "execute_result"
    }
   ],
   "source": [
    "a1=np.float_(a1)\n",
    "a1"
   ]
  },
  {
   "cell_type": "markdown",
   "id": "e726e997-5d45-46d0-af2b-3549e6cc18a1",
   "metadata": {},
   "source": [
    "## ASTYPE"
   ]
  },
  {
   "cell_type": "code",
   "execution_count": 343,
   "id": "0f016f1a-2fc7-4b26-85c5-522f3512831b",
   "metadata": {},
   "outputs": [
    {
     "name": "stdout",
     "output_type": "stream",
     "text": [
      "[[4]\n",
      " [4]]\n"
     ]
    },
    {
     "data": {
      "text/plain": [
       "array([[4.],\n",
       "       [4.]])"
      ]
     },
     "execution_count": 343,
     "metadata": {},
     "output_type": "execute_result"
    }
   ],
   "source": [
    "aa=np.array([[4],[4]])\n",
    "print(aa)\n",
    "aa=aa.astype(float)\n",
    "aa"
   ]
  },
  {
   "cell_type": "markdown",
   "id": "7bcd698c-0bf8-4a90-b384-ec8a1a673afb",
   "metadata": {},
   "source": [
    "### SHAPE AND RESHAPE"
   ]
  },
  {
   "cell_type": "code",
   "execution_count": 130,
   "id": "d300fc91-282d-498d-90cf-db8c3fda8529",
   "metadata": {},
   "outputs": [
    {
     "data": {
      "text/plain": [
       "array([[2, 3],\n",
       "       [2, 1]])"
      ]
     },
     "execution_count": 130,
     "metadata": {},
     "output_type": "execute_result"
    }
   ],
   "source": [
    "c=np.random.randint(1,4,(2,2))\n",
    "c"
   ]
  },
  {
   "cell_type": "code",
   "execution_count": 131,
   "id": "97fe8ff8-9d52-4f43-974e-700d951abd13",
   "metadata": {},
   "outputs": [
    {
     "data": {
      "text/plain": [
       "(2, 2)"
      ]
     },
     "execution_count": 131,
     "metadata": {},
     "output_type": "execute_result"
    }
   ],
   "source": [
    "c.shape\n"
   ]
  },
  {
   "cell_type": "code",
   "execution_count": 132,
   "id": "5c34ecad-66a1-478f-b0f7-fe91c7f63c42",
   "metadata": {},
   "outputs": [
    {
     "data": {
      "text/plain": [
       "array([2, 3, 2, 1])"
      ]
     },
     "execution_count": 132,
     "metadata": {},
     "output_type": "execute_result"
    }
   ],
   "source": [
    "c.reshape(4 )\n"
   ]
  },
  {
   "cell_type": "code",
   "execution_count": 346,
   "id": "8fa8ecb2-690e-4e9f-ab88-8b8637c81eaf",
   "metadata": {},
   "outputs": [
    {
     "name": "stdout",
     "output_type": "stream",
     "text": [
      "[[79.15579863  9.72294577 38.4066566 ]\n",
      " [39.77513779 30.93436765 47.28571522]\n",
      " [99.07570727 74.97759633  9.30613747]\n",
      " [61.92083938 20.32788485 38.7025919 ]]\n"
     ]
    },
    {
     "data": {
      "text/plain": [
       "array([[79.15579863,  9.72294577, 38.4066566 , 39.77513779],\n",
       "       [30.93436765, 47.28571522, 99.07570727, 74.97759633],\n",
       "       [ 9.30613747, 61.92083938, 20.32788485, 38.7025919 ]])"
      ]
     },
     "execution_count": 346,
     "metadata": {},
     "output_type": "execute_result"
    }
   ],
   "source": [
    "gudu=np.random.uniform(1,100,(4,3))\n",
    "print(gudu)\n",
    "gudu.reshape(3,4)"
   ]
  },
  {
   "cell_type": "markdown",
   "id": "be8207fe-749d-4604-a672-c265254237b1",
   "metadata": {},
   "source": [
    "## AIRTHMETIC OPOERATION"
   ]
  },
  {
   "cell_type": "markdown",
   "id": "4a68b525-0bcd-413c-bef1-e2d38bd9be1c",
   "metadata": {},
   "source": [
    "### WITH NP"
   ]
  },
  {
   "cell_type": "code",
   "execution_count": 133,
   "id": "56a8ea72-b716-4322-b2e4-27c498724fd6",
   "metadata": {},
   "outputs": [],
   "source": [
    "c1=np.random.randint(1,10,(3,3))\n",
    "c2=np.random.randint(2,12,(3,3))"
   ]
  },
  {
   "cell_type": "code",
   "execution_count": 134,
   "id": "6cf26d47-39f1-415e-ac99-78152bea3518",
   "metadata": {},
   "outputs": [
    {
     "data": {
      "text/plain": [
       "array([[5, 3, 7],\n",
       "       [5, 4, 1],\n",
       "       [8, 6, 6]])"
      ]
     },
     "execution_count": 134,
     "metadata": {},
     "output_type": "execute_result"
    }
   ],
   "source": [
    "c1"
   ]
  },
  {
   "cell_type": "code",
   "execution_count": 135,
   "id": "87dc2135-7567-4e96-bfcf-eb9ae0540a87",
   "metadata": {},
   "outputs": [
    {
     "data": {
      "text/plain": [
       "array([[11,  8,  8],\n",
       "       [10,  4,  7],\n",
       "       [10,  3,  4]])"
      ]
     },
     "execution_count": 135,
     "metadata": {},
     "output_type": "execute_result"
    }
   ],
   "source": [
    "c2"
   ]
  },
  {
   "cell_type": "code",
   "execution_count": 136,
   "id": "c49d0cdf-a89c-45c8-8296-c75fc7d9cc67",
   "metadata": {},
   "outputs": [
    {
     "data": {
      "text/plain": [
       "array([[16, 11, 15],\n",
       "       [15,  8,  8],\n",
       "       [18,  9, 10]])"
      ]
     },
     "execution_count": 136,
     "metadata": {},
     "output_type": "execute_result"
    }
   ],
   "source": [
    "np.add(c1,c2)"
   ]
  },
  {
   "cell_type": "code",
   "execution_count": 137,
   "id": "ab1109e3-bc28-4127-8665-c1c9bd274bf9",
   "metadata": {},
   "outputs": [
    {
     "data": {
      "text/plain": [
       "array([[5, 3, 7],\n",
       "       [5, 0, 1],\n",
       "       [8, 0, 2]])"
      ]
     },
     "execution_count": 137,
     "metadata": {},
     "output_type": "execute_result"
    }
   ],
   "source": [
    "np.mod(c1,c2)"
   ]
  },
  {
   "cell_type": "code",
   "execution_count": 138,
   "id": "23609d5d-c823-4722-8b51-f7a5a4b16d22",
   "metadata": {},
   "outputs": [
    {
     "data": {
      "text/plain": [
       "array([[  48828125,       6561,    5764801],\n",
       "       [   9765625,        256,          1],\n",
       "       [1073741824,        216,       1296]])"
      ]
     },
     "execution_count": 138,
     "metadata": {},
     "output_type": "execute_result"
    }
   ],
   "source": [
    "np.power(c1,c2)"
   ]
  },
  {
   "cell_type": "code",
   "execution_count": null,
   "id": "3154bc0f-ffc8-499b-a1b0-52a5f2af3579",
   "metadata": {},
   "outputs": [],
   "source": []
  },
  {
   "cell_type": "markdown",
   "id": "375f895a-8e2a-4248-81f0-a3d50a33a821",
   "metadata": {},
   "source": [
    "### without the np"
   ]
  },
  {
   "cell_type": "code",
   "execution_count": 139,
   "id": "baaee4ce-330a-4858-b9a4-b7bf661ff970",
   "metadata": {},
   "outputs": [
    {
     "data": {
      "text/plain": [
       "array([[16, 11, 15],\n",
       "       [15,  8,  8],\n",
       "       [18,  9, 10]])"
      ]
     },
     "execution_count": 139,
     "metadata": {},
     "output_type": "execute_result"
    }
   ],
   "source": [
    "c1+c2"
   ]
  },
  {
   "cell_type": "code",
   "execution_count": 140,
   "id": "71d53b2e-1328-410c-9f5c-9e51123fe4ef",
   "metadata": {},
   "outputs": [
    {
     "data": {
      "text/plain": [
       "array([[55, 24, 56],\n",
       "       [50, 16,  7],\n",
       "       [80, 18, 24]])"
      ]
     },
     "execution_count": 140,
     "metadata": {},
     "output_type": "execute_result"
    }
   ],
   "source": [
    "c1*c2"
   ]
  },
  {
   "cell_type": "code",
   "execution_count": null,
   "id": "d13ff2a5-d858-44fc-af79-eac579824c22",
   "metadata": {},
   "outputs": [],
   "source": []
  },
  {
   "cell_type": "markdown",
   "id": "75e6f6ac-ee0b-4e0e-9fb4-f345b7f8efa9",
   "metadata": {},
   "source": [
    "### BRAODCASTING ERROR"
   ]
  },
  {
   "cell_type": "markdown",
   "id": "5ab28182-21ec-4f55-bccf-852be7ae21db",
   "metadata": {},
   "source": [
    "### if you try to add or do airthmetric operation of matrix and if they are not equal nor they have 1 in their order they can have this error"
   ]
  },
  {
   "cell_type": "code",
   "execution_count": 141,
   "id": "e620ccf9-ab2c-4253-862c-4f66b88a90e8",
   "metadata": {},
   "outputs": [
    {
     "ename": "ValueError",
     "evalue": "operands could not be broadcast together with shapes (4,4) (3,3) ",
     "output_type": "error",
     "traceback": [
      "\u001b[1;31m---------------------------------------------------------------------------\u001b[0m",
      "\u001b[1;31mValueError\u001b[0m                                Traceback (most recent call last)",
      "Cell \u001b[1;32mIn[141], line 2\u001b[0m\n\u001b[0;32m      1\u001b[0m c3\u001b[38;5;241m=\u001b[39mnp\u001b[38;5;241m.\u001b[39mrandom\u001b[38;5;241m.\u001b[39mrandint(\u001b[38;5;241m1\u001b[39m,\u001b[38;5;241m23\u001b[39m,(\u001b[38;5;241m4\u001b[39m,\u001b[38;5;241m4\u001b[39m))\n\u001b[1;32m----> 2\u001b[0m c3\u001b[38;5;241m+\u001b[39mc1\n",
      "\u001b[1;31mValueError\u001b[0m: operands could not be broadcast together with shapes (4,4) (3,3) "
     ]
    }
   ],
   "source": [
    "c3=np.random.randint(1,23,(4,4))\n",
    "c3+c1"
   ]
  },
  {
   "cell_type": "code",
   "execution_count": null,
   "id": "f380973a-781f-415d-bec9-26f21779387c",
   "metadata": {},
   "outputs": [],
   "source": []
  },
  {
   "cell_type": "markdown",
   "id": "db34fbe7-24a4-4d0b-9561-1b79f0949609",
   "metadata": {},
   "source": [
    "### NOW IF ONE OF THE MATRIX HAS 1 IN THEIR ORDER THEY CAN PERFORM THESE OPERATION"
   ]
  },
  {
   "cell_type": "code",
   "execution_count": 142,
   "id": "32f34d9f-58b7-4681-a2be-2783c58304e4",
   "metadata": {},
   "outputs": [
    {
     "data": {
      "text/plain": [
       "array([[82],\n",
       "       [90],\n",
       "       [74]])"
      ]
     },
     "execution_count": 142,
     "metadata": {},
     "output_type": "execute_result"
    }
   ],
   "source": [
    "c4=np.random.randint(1,100,(3,1))\n",
    "c4"
   ]
  },
  {
   "cell_type": "code",
   "execution_count": 143,
   "id": "a41fc21e-1cb6-4e05-9d43-84a9e02e3eaa",
   "metadata": {},
   "outputs": [
    {
     "data": {
      "text/plain": [
       "array([[87, 85, 89],\n",
       "       [95, 94, 91],\n",
       "       [82, 80, 80]])"
      ]
     },
     "execution_count": 143,
     "metadata": {},
     "output_type": "execute_result"
    }
   ],
   "source": [
    "c4+c1"
   ]
  },
  {
   "cell_type": "code",
   "execution_count": 249,
   "id": "7a0c1950-f85a-496f-9960-f22c0c5515fc",
   "metadata": {},
   "outputs": [
    {
     "data": {
      "text/plain": [
       "array([[5, 3, 7],\n",
       "       [5, 4, 1],\n",
       "       [8, 6, 6]])"
      ]
     },
     "execution_count": 249,
     "metadata": {},
     "output_type": "execute_result"
    }
   ],
   "source": [
    "c1"
   ]
  },
  {
   "cell_type": "markdown",
   "id": "78c3bbdb-b7c4-4e4a-a88b-ad4718676022",
   "metadata": {},
   "source": [
    "### SLICING"
   ]
  },
  {
   "cell_type": "markdown",
   "id": "053e2784-bcda-489b-9ace-faafaa69285e",
   "metadata": {},
   "source": [
    "### 1d"
   ]
  },
  {
   "cell_type": "code",
   "execution_count": 144,
   "id": "09da8e70-db8c-4a75-b033-206145c5580b",
   "metadata": {},
   "outputs": [
    {
     "data": {
      "text/plain": [
       "array([ 3,  4,  5,  6, 55])"
      ]
     },
     "execution_count": 144,
     "metadata": {},
     "output_type": "execute_result"
    }
   ],
   "source": [
    "f=np.array([3,4,5,6,55])\n",
    "f"
   ]
  },
  {
   "cell_type": "code",
   "execution_count": 145,
   "id": "650b98fc-4c00-4ef4-a0ab-9bf6ead9c869",
   "metadata": {},
   "outputs": [
    {
     "data": {
      "text/plain": [
       "array([3, 4])"
      ]
     },
     "execution_count": 145,
     "metadata": {},
     "output_type": "execute_result"
    }
   ],
   "source": [
    "f[:2]"
   ]
  },
  {
   "cell_type": "markdown",
   "id": "84f64cd8-7d9a-4f7e-90de-77af1d8539fa",
   "metadata": {},
   "source": [
    "### FOR 2D"
   ]
  },
  {
   "cell_type": "code",
   "execution_count": 146,
   "id": "b422b49d-967b-47c1-9eed-27f6f3d2d6d0",
   "metadata": {},
   "outputs": [],
   "source": [
    "g=np.array([[1,2,3],[4,5,6]])"
   ]
  },
  {
   "cell_type": "code",
   "execution_count": 147,
   "id": "344da5e3-a093-4341-acf5-96f61cb839c4",
   "metadata": {},
   "outputs": [
    {
     "data": {
      "text/plain": [
       "array([[1, 2, 3],\n",
       "       [4, 5, 6]])"
      ]
     },
     "execution_count": 147,
     "metadata": {},
     "output_type": "execute_result"
    }
   ],
   "source": [
    "g"
   ]
  },
  {
   "cell_type": "code",
   "execution_count": 148,
   "id": "462756a6-5fb2-44b5-8731-30b4062d180c",
   "metadata": {},
   "outputs": [
    {
     "data": {
      "text/plain": [
       "array([1, 2, 3])"
      ]
     },
     "execution_count": 148,
     "metadata": {},
     "output_type": "execute_result"
    }
   ],
   "source": [
    "g[0]#whole row"
   ]
  },
  {
   "cell_type": "code",
   "execution_count": 149,
   "id": "c67991c3-814d-4bce-8431-675792fa7e2a",
   "metadata": {},
   "outputs": [
    {
     "data": {
      "text/plain": [
       "array([4, 5, 6])"
      ]
     },
     "execution_count": 149,
     "metadata": {},
     "output_type": "execute_result"
    }
   ],
   "source": [
    "g[1]#whole second row"
   ]
  },
  {
   "cell_type": "code",
   "execution_count": 150,
   "id": "2bb4f160-63dd-408f-a1ce-5bc9ab7b25d1",
   "metadata": {},
   "outputs": [
    {
     "data": {
      "text/plain": [
       "array([1, 2, 3])"
      ]
     },
     "execution_count": 150,
     "metadata": {},
     "output_type": "execute_result"
    }
   ],
   "source": [
    "g[0,:]"
   ]
  },
  {
   "cell_type": "code",
   "execution_count": 151,
   "id": "3ebbb7bc-9f20-4f6f-bf25-452e8546cdd8",
   "metadata": {},
   "outputs": [
    {
     "data": {
      "text/plain": [
       "array([2, 3])"
      ]
     },
     "execution_count": 151,
     "metadata": {},
     "output_type": "execute_result"
    }
   ],
   "source": [
    "g[0,1:]"
   ]
  },
  {
   "cell_type": "code",
   "execution_count": 152,
   "id": "dcd54f03-825e-4863-92e3-675b3b39186d",
   "metadata": {},
   "outputs": [
    {
     "data": {
      "text/plain": [
       "array([2, 5])"
      ]
     },
     "execution_count": 152,
     "metadata": {},
     "output_type": "execute_result"
    }
   ],
   "source": [
    "g[:,1]"
   ]
  },
  {
   "cell_type": "code",
   "execution_count": null,
   "id": "64d59ea1-78cc-4fab-be1f-f943a7219991",
   "metadata": {},
   "outputs": [],
   "source": []
  },
  {
   "cell_type": "markdown",
   "id": "2cf751e1-7262-4368-9c7b-3e43fb3d0dae",
   "metadata": {},
   "source": [
    "### ITERATION IN ARRAY"
   ]
  },
  {
   "cell_type": "markdown",
   "id": "4671bfe7-8653-461f-b433-1cfb2ce41d00",
   "metadata": {},
   "source": [
    "### 1D"
   ]
  },
  {
   "cell_type": "code",
   "execution_count": 153,
   "id": "82cec070-a00a-4a74-acee-843b499f68bb",
   "metadata": {},
   "outputs": [
    {
     "data": {
      "text/plain": [
       "array([1, 2, 3, 4, 5])"
      ]
     },
     "execution_count": 153,
     "metadata": {},
     "output_type": "execute_result"
    }
   ],
   "source": [
    "arr=np.array([1,2,3,4,5])\n",
    "arr"
   ]
  },
  {
   "cell_type": "code",
   "execution_count": 154,
   "id": "9d83e37b-2bab-413b-838f-07e61be229a4",
   "metadata": {},
   "outputs": [
    {
     "name": "stdout",
     "output_type": "stream",
     "text": [
      "1\n",
      "2\n",
      "3\n",
      "4\n",
      "5\n"
     ]
    }
   ],
   "source": [
    "for ar in arr:\n",
    "    print(ar)"
   ]
  },
  {
   "cell_type": "markdown",
   "id": "eea5f69f-25af-449f-b16d-951d68cec3a2",
   "metadata": {},
   "source": [
    "### 2D"
   ]
  },
  {
   "cell_type": "code",
   "execution_count": 155,
   "id": "a73f762e-c8ac-4138-aad7-c0b3049775c8",
   "metadata": {},
   "outputs": [
    {
     "data": {
      "text/plain": [
       "array([[1, 2, 3],\n",
       "       [2, 3, 4]])"
      ]
     },
     "execution_count": 155,
     "metadata": {},
     "output_type": "execute_result"
    }
   ],
   "source": [
    "arr2=np.array([[1,2,3],[2,3,4]])\n",
    "arr2"
   ]
  },
  {
   "cell_type": "code",
   "execution_count": 156,
   "id": "596c6771-cbe7-40ee-84ef-f4c8b89cf03a",
   "metadata": {},
   "outputs": [
    {
     "name": "stdout",
     "output_type": "stream",
     "text": [
      "1\n",
      "2\n",
      "3\n",
      "2\n",
      "3\n",
      "4\n"
     ]
    }
   ],
   "source": [
    "for i in arr2:\n",
    "    for j in i:\n",
    "        print(j)"
   ]
  },
  {
   "cell_type": "markdown",
   "id": "5b521f25-14f1-4b5a-8e25-16798bf26a10",
   "metadata": {},
   "source": [
    "### WE CAN USE KEYWORD np.nditer(array)"
   ]
  },
  {
   "cell_type": "code",
   "execution_count": 157,
   "id": "57b5200f-0371-470c-aef4-db16d276593e",
   "metadata": {},
   "outputs": [
    {
     "name": "stdout",
     "output_type": "stream",
     "text": [
      "1\n",
      "2\n",
      "3\n",
      "2\n",
      "3\n",
      "4\n"
     ]
    }
   ],
   "source": [
    "for  n in np.nditer(arr2):\n",
    "    print(n)"
   ]
  },
  {
   "cell_type": "code",
   "execution_count": null,
   "id": "e50a80bd-6497-4501-b598-ac1e4b305816",
   "metadata": {},
   "outputs": [],
   "source": [
    "    "
   ]
  },
  {
   "cell_type": "markdown",
   "id": "80b10c0e-dba1-418c-9a79-a818a442311b",
   "metadata": {},
   "source": [
    "### COPY AND VIEW"
   ]
  },
  {
   "cell_type": "markdown",
   "id": "83f3d8d0-f943-411c-b700-f637eba42036",
   "metadata": {},
   "source": [
    "### copy recreates whole new array or entity while while is a like a mirror view of the array"
   ]
  },
  {
   "cell_type": "code",
   "execution_count": 158,
   "id": "215ff954-a4b8-47fd-8376-0aa5dcd66b8d",
   "metadata": {},
   "outputs": [
    {
     "data": {
      "text/plain": [
       "array([[1, 2, 3],\n",
       "       [2, 3, 4]])"
      ]
     },
     "execution_count": 158,
     "metadata": {},
     "output_type": "execute_result"
    }
   ],
   "source": [
    "arr2"
   ]
  },
  {
   "cell_type": "code",
   "execution_count": 159,
   "id": "72ee5c33-88bf-424d-a442-b8facbe9ccdc",
   "metadata": {},
   "outputs": [],
   "source": [
    "arr3=arr2.copy()"
   ]
  },
  {
   "cell_type": "code",
   "execution_count": 160,
   "id": "e5ff0462-77be-4e79-8293-6438fa406f90",
   "metadata": {},
   "outputs": [],
   "source": [
    "arr3=arr3+3"
   ]
  },
  {
   "cell_type": "code",
   "execution_count": 161,
   "id": "cb507973-687c-468a-b5ac-f05db943a5bc",
   "metadata": {},
   "outputs": [
    {
     "data": {
      "text/plain": [
       "array([[4, 5, 6],\n",
       "       [5, 6, 7]])"
      ]
     },
     "execution_count": 161,
     "metadata": {},
     "output_type": "execute_result"
    }
   ],
   "source": [
    "arr3"
   ]
  },
  {
   "cell_type": "code",
   "execution_count": 162,
   "id": "d38df7ff-0592-43bc-8749-7e6c6c380edd",
   "metadata": {},
   "outputs": [
    {
     "data": {
      "text/plain": [
       "array([[1, 2, 3],\n",
       "       [2, 3, 4]])"
      ]
     },
     "execution_count": 162,
     "metadata": {},
     "output_type": "execute_result"
    }
   ],
   "source": [
    "arr2#does not change while chanigng the copy"
   ]
  },
  {
   "cell_type": "code",
   "execution_count": 163,
   "id": "1c8bed3b-d537-4578-87d0-9898f90fb9aa",
   "metadata": {},
   "outputs": [],
   "source": [
    "v=arr2.view()"
   ]
  },
  {
   "cell_type": "code",
   "execution_count": 164,
   "id": "ba76aab5-ef04-4fc2-92a7-7adf5d299f8b",
   "metadata": {},
   "outputs": [
    {
     "data": {
      "text/plain": [
       "array([[1, 2, 3],\n",
       "       [2, 3, 4]])"
      ]
     },
     "execution_count": 164,
     "metadata": {},
     "output_type": "execute_result"
    }
   ],
   "source": [
    "v"
   ]
  },
  {
   "cell_type": "code",
   "execution_count": 165,
   "id": "bcbf1f3b-0773-466d-af6c-aa8204cb2388",
   "metadata": {},
   "outputs": [],
   "source": [
    "arr2+=2"
   ]
  },
  {
   "cell_type": "code",
   "execution_count": 166,
   "id": "4d1ee37d-6e1f-4cc9-ba62-62c979dfe918",
   "metadata": {},
   "outputs": [
    {
     "data": {
      "text/plain": [
       "array([[3, 4, 5],\n",
       "       [4, 5, 6]])"
      ]
     },
     "execution_count": 166,
     "metadata": {},
     "output_type": "execute_result"
    }
   ],
   "source": [
    "arr2\n"
   ]
  },
  {
   "cell_type": "code",
   "execution_count": 167,
   "id": "5f0b42f5-819d-4a5c-a11c-eb1e433434c4",
   "metadata": {},
   "outputs": [
    {
     "data": {
      "text/plain": [
       "array([[3, 4, 5],\n",
       "       [4, 5, 6]])"
      ]
     },
     "execution_count": 167,
     "metadata": {},
     "output_type": "execute_result"
    }
   ],
   "source": [
    "v#it changes"
   ]
  },
  {
   "cell_type": "code",
   "execution_count": null,
   "id": "256f3a09-e1b4-480c-aa4e-12a5ed6f4c0d",
   "metadata": {},
   "outputs": [],
   "source": []
  },
  {
   "cell_type": "markdown",
   "id": "a1cb3f01-d911-407a-9513-21ad5db3d94c",
   "metadata": {},
   "source": [
    "### JOIN AND SPLIT"
   ]
  },
  {
   "cell_type": "markdown",
   "id": "93131b22-5037-4565-bd1e-db9e029948cb",
   "metadata": {},
   "source": [
    "### JOIN"
   ]
  },
  {
   "cell_type": "code",
   "execution_count": 168,
   "id": "5e956252-e367-41aa-96de-999fef4d237e",
   "metadata": {},
   "outputs": [
    {
     "data": {
      "text/plain": [
       "array([1, 2, 3, 4, 4, 5, 6, 7])"
      ]
     },
     "execution_count": 168,
     "metadata": {},
     "output_type": "execute_result"
    }
   ],
   "source": [
    "j=np.array([1,2,3,4])\n",
    "l=np.array([4,5,6,7])\n",
    "np.concatenate((j,l))#adds the new araay to next to old one"
   ]
  },
  {
   "cell_type": "code",
   "execution_count": null,
   "id": "b66318e3-08ba-4796-b574-98c8185c151c",
   "metadata": {},
   "outputs": [],
   "source": []
  },
  {
   "cell_type": "markdown",
   "id": "0fabebf1-f2ad-47d1-9562-84265dea6bc9",
   "metadata": {},
   "source": [
    "### 2d"
   ]
  },
  {
   "cell_type": "code",
   "execution_count": 169,
   "id": "db183037-82db-48da-8a80-257a68937228",
   "metadata": {},
   "outputs": [],
   "source": [
    "m=np.random.randint(1,10,(2,2))\n",
    "n=np.random.randint(3,30,(2,2))"
   ]
  },
  {
   "cell_type": "code",
   "execution_count": 170,
   "id": "dedbe1fb-6704-473d-bc41-9fa31327079d",
   "metadata": {},
   "outputs": [
    {
     "data": {
      "text/plain": [
       "array([[1, 8],\n",
       "       [3, 7]])"
      ]
     },
     "execution_count": 170,
     "metadata": {},
     "output_type": "execute_result"
    }
   ],
   "source": [
    "m"
   ]
  },
  {
   "cell_type": "code",
   "execution_count": 171,
   "id": "fdab077e-4d7e-4c81-bb00-4755871efb57",
   "metadata": {},
   "outputs": [
    {
     "data": {
      "text/plain": [
       "array([[ 6, 14],\n",
       "       [26, 27]])"
      ]
     },
     "execution_count": 171,
     "metadata": {},
     "output_type": "execute_result"
    }
   ],
   "source": [
    "n"
   ]
  },
  {
   "cell_type": "code",
   "execution_count": 172,
   "id": "3a05099d-557f-4f5b-823c-85f4b0797ca4",
   "metadata": {},
   "outputs": [
    {
     "data": {
      "text/plain": [
       "array([[ 1,  8],\n",
       "       [ 3,  7],\n",
       "       [ 6, 14],\n",
       "       [26, 27]])"
      ]
     },
     "execution_count": 172,
     "metadata": {},
     "output_type": "execute_result"
    }
   ],
   "source": [
    "np.concatenate((m,n))#it addds to row wise"
   ]
  },
  {
   "cell_type": "code",
   "execution_count": 173,
   "id": "f1f0c592-1198-4b6c-a98b-3192d818b67d",
   "metadata": {},
   "outputs": [
    {
     "data": {
      "text/plain": [
       "array([[ 1,  8,  6, 14],\n",
       "       [ 3,  7, 26, 27]])"
      ]
     },
     "execution_count": 173,
     "metadata": {},
     "output_type": "execute_result"
    }
   ],
   "source": [
    "np.concatenate((m,n),axis=1)#axis =1 gives you column wisse\n"
   ]
  },
  {
   "cell_type": "code",
   "execution_count": 174,
   "id": "ff0c8815-c556-4d24-9c4a-f8f195c17232",
   "metadata": {},
   "outputs": [
    {
     "data": {
      "text/plain": [
       "array([[[ 1,  8],\n",
       "        [ 3,  7]],\n",
       "\n",
       "       [[ 6, 14],\n",
       "        [26, 27]]])"
      ]
     },
     "execution_count": 174,
     "metadata": {},
     "output_type": "execute_result"
    }
   ],
   "source": [
    "np.stack((m,n))#adds one dimesnion with adding the new array row wise"
   ]
  },
  {
   "cell_type": "code",
   "execution_count": null,
   "id": "be5c7947-1034-4053-9ee5-adffdddb5d3f",
   "metadata": {},
   "outputs": [],
   "source": [
    "\n"
   ]
  },
  {
   "cell_type": "code",
   "execution_count": null,
   "id": "33829d97-2058-42b4-abc2-d18167589bb9",
   "metadata": {},
   "outputs": [],
   "source": []
  },
  {
   "cell_type": "markdown",
   "id": "0b6b5891-72f4-4ef1-beed-ba295e455c7b",
   "metadata": {},
   "source": [
    "### SEARCH SORT AND SEARCH_SORTED"
   ]
  },
  {
   "cell_type": "code",
   "execution_count": 175,
   "id": "81ca358c-1c10-4d75-84dd-983d036a1f5d",
   "metadata": {},
   "outputs": [
    {
     "data": {
      "text/plain": [
       "array([1, 2, 3, 4, 5, 6, 7, 8, 9])"
      ]
     },
     "execution_count": 175,
     "metadata": {},
     "output_type": "execute_result"
    }
   ],
   "source": [
    "var1=np.arange(1,10)\n",
    "var1"
   ]
  },
  {
   "cell_type": "code",
   "execution_count": 176,
   "id": "8304b0e0-071c-4ecb-a92f-aefe1ce43a4b",
   "metadata": {},
   "outputs": [],
   "source": [
    "z=(np.where(var1==3))"
   ]
  },
  {
   "cell_type": "code",
   "execution_count": 177,
   "id": "367a6933-3c0f-4764-bcc7-0843a0db3205",
   "metadata": {},
   "outputs": [
    {
     "data": {
      "text/plain": [
       "(array([2], dtype=int64),)"
      ]
     },
     "execution_count": 177,
     "metadata": {},
     "output_type": "execute_result"
    }
   ],
   "source": [
    "z#2 which is location of the number"
   ]
  },
  {
   "cell_type": "code",
   "execution_count": 178,
   "id": "6bc94c04-ce2f-4e68-a1f8-47203a6e5e7e",
   "metadata": {},
   "outputs": [
    {
     "data": {
      "text/plain": [
       "(array([1, 3, 5, 7], dtype=int64),)"
      ]
     },
     "execution_count": 178,
     "metadata": {},
     "output_type": "execute_result"
    }
   ],
   "source": [
    "zx=(np.where(var1%2==0))\n",
    "zx"
   ]
  },
  {
   "cell_type": "code",
   "execution_count": null,
   "id": "eab7ae15-0935-44ef-a592-731a27f4a0e2",
   "metadata": {},
   "outputs": [],
   "source": []
  },
  {
   "cell_type": "markdown",
   "id": "9538af44-144a-4ed7-a5a0-6fc44b1dac63",
   "metadata": {},
   "source": [
    "### 2D"
   ]
  },
  {
   "cell_type": "code",
   "execution_count": 179,
   "id": "ca0e7e6b-e2dc-46d9-b982-547b69915b98",
   "metadata": {},
   "outputs": [
    {
     "data": {
      "text/plain": [
       "array([[1, 8],\n",
       "       [3, 7]])"
      ]
     },
     "execution_count": 179,
     "metadata": {},
     "output_type": "execute_result"
    }
   ],
   "source": [
    "m"
   ]
  },
  {
   "cell_type": "code",
   "execution_count": 180,
   "id": "758b2616-40ec-40b8-810c-df4cd5fe867d",
   "metadata": {},
   "outputs": [
    {
     "name": "stdout",
     "output_type": "stream",
     "text": [
      "(array([0], dtype=int64), array([0], dtype=int64))\n"
     ]
    }
   ],
   "source": [
    "p=np.where(m==1)#it gives in order row and column so 0,0\n",
    "print(p)"
   ]
  },
  {
   "cell_type": "code",
   "execution_count": 181,
   "id": "a361aac7-8084-4252-aa91-1c399301c685",
   "metadata": {},
   "outputs": [
    {
     "name": "stdout",
     "output_type": "stream",
     "text": [
      "(array([1], dtype=int64), array([0], dtype=int64))\n"
     ]
    }
   ],
   "source": [
    "pd=np.where(m==3)#it gives in order row and column so 1,0\n",
    "print(pd)"
   ]
  },
  {
   "cell_type": "code",
   "execution_count": null,
   "id": "b50d30a8-23a3-4970-8d26-fa73c2e4e696",
   "metadata": {},
   "outputs": [],
   "source": []
  },
  {
   "cell_type": "markdown",
   "id": "b0965cc0-cf31-42c0-b064-7f9dc83e015d",
   "metadata": {},
   "source": [
    "### SEARCH SORTED:GIVES THE POSITION WHERE THE NUMBER SHOULD BE LOCATED IN THE ARRAY"
   ]
  },
  {
   "cell_type": "code",
   "execution_count": 182,
   "id": "bc760628-9b3b-43ae-bc6e-22127aba73cb",
   "metadata": {},
   "outputs": [
    {
     "data": {
      "text/plain": [
       "array([1, 2, 3, 4, 5, 6, 7, 8, 9])"
      ]
     },
     "execution_count": 182,
     "metadata": {},
     "output_type": "execute_result"
    }
   ],
   "source": [
    "var1"
   ]
  },
  {
   "cell_type": "code",
   "execution_count": 183,
   "id": "604f6b20-10a0-4e25-aa61-dbbe99883f64",
   "metadata": {},
   "outputs": [
    {
     "data": {
      "text/plain": [
       "9"
      ]
     },
     "execution_count": 183,
     "metadata": {},
     "output_type": "execute_result"
    }
   ],
   "source": [
    "np.searchsorted(var1,10)"
   ]
  },
  {
   "cell_type": "markdown",
   "id": "dc8ac664-1a5e-4bd8-8ba4-ef03f5d8d790",
   "metadata": {},
   "source": [
    "### 2d"
   ]
  },
  {
   "cell_type": "code",
   "execution_count": 184,
   "id": "8948e2a3-cdcd-4309-b7cb-805731d3917c",
   "metadata": {},
   "outputs": [
    {
     "data": {
      "text/plain": [
       "array([[1, 8],\n",
       "       [3, 7]])"
      ]
     },
     "execution_count": 184,
     "metadata": {},
     "output_type": "execute_result"
    }
   ],
   "source": [
    "m#not works with 2d array"
   ]
  },
  {
   "cell_type": "code",
   "execution_count": 185,
   "id": "06415df5-96e0-4287-bb5b-aac8d542731b",
   "metadata": {},
   "outputs": [
    {
     "ename": "ValueError",
     "evalue": "object too deep for desired array",
     "output_type": "error",
     "traceback": [
      "\u001b[1;31m---------------------------------------------------------------------------\u001b[0m",
      "\u001b[1;31mValueError\u001b[0m                                Traceback (most recent call last)",
      "Cell \u001b[1;32mIn[185], line 1\u001b[0m\n\u001b[1;32m----> 1\u001b[0m np\u001b[38;5;241m.\u001b[39msearchsorted(m,\u001b[38;5;241m2\u001b[39m)\n",
      "File \u001b[1;32m~\\anaconda3\\Lib\\site-packages\\numpy\\core\\fromnumeric.py:1400\u001b[0m, in \u001b[0;36msearchsorted\u001b[1;34m(a, v, side, sorter)\u001b[0m\n\u001b[0;32m   1332\u001b[0m \u001b[38;5;129m@array_function_dispatch\u001b[39m(_searchsorted_dispatcher)\n\u001b[0;32m   1333\u001b[0m \u001b[38;5;28;01mdef\u001b[39;00m \u001b[38;5;21msearchsorted\u001b[39m(a, v, side\u001b[38;5;241m=\u001b[39m\u001b[38;5;124m'\u001b[39m\u001b[38;5;124mleft\u001b[39m\u001b[38;5;124m'\u001b[39m, sorter\u001b[38;5;241m=\u001b[39m\u001b[38;5;28;01mNone\u001b[39;00m):\n\u001b[0;32m   1334\u001b[0m \u001b[38;5;250m    \u001b[39m\u001b[38;5;124;03m\"\"\"\u001b[39;00m\n\u001b[0;32m   1335\u001b[0m \u001b[38;5;124;03m    Find indices where elements should be inserted to maintain order.\u001b[39;00m\n\u001b[0;32m   1336\u001b[0m \n\u001b[1;32m   (...)\u001b[0m\n\u001b[0;32m   1398\u001b[0m \n\u001b[0;32m   1399\u001b[0m \u001b[38;5;124;03m    \"\"\"\u001b[39;00m\n\u001b[1;32m-> 1400\u001b[0m     \u001b[38;5;28;01mreturn\u001b[39;00m _wrapfunc(a, \u001b[38;5;124m'\u001b[39m\u001b[38;5;124msearchsorted\u001b[39m\u001b[38;5;124m'\u001b[39m, v, side\u001b[38;5;241m=\u001b[39mside, sorter\u001b[38;5;241m=\u001b[39msorter)\n",
      "File \u001b[1;32m~\\anaconda3\\Lib\\site-packages\\numpy\\core\\fromnumeric.py:59\u001b[0m, in \u001b[0;36m_wrapfunc\u001b[1;34m(obj, method, *args, **kwds)\u001b[0m\n\u001b[0;32m     56\u001b[0m     \u001b[38;5;28;01mreturn\u001b[39;00m _wrapit(obj, method, \u001b[38;5;241m*\u001b[39margs, \u001b[38;5;241m*\u001b[39m\u001b[38;5;241m*\u001b[39mkwds)\n\u001b[0;32m     58\u001b[0m \u001b[38;5;28;01mtry\u001b[39;00m:\n\u001b[1;32m---> 59\u001b[0m     \u001b[38;5;28;01mreturn\u001b[39;00m bound(\u001b[38;5;241m*\u001b[39margs, \u001b[38;5;241m*\u001b[39m\u001b[38;5;241m*\u001b[39mkwds)\n\u001b[0;32m     60\u001b[0m \u001b[38;5;28;01mexcept\u001b[39;00m \u001b[38;5;167;01mTypeError\u001b[39;00m:\n\u001b[0;32m     61\u001b[0m     \u001b[38;5;66;03m# A TypeError occurs if the object does have such a method in its\u001b[39;00m\n\u001b[0;32m     62\u001b[0m     \u001b[38;5;66;03m# class, but its signature is not identical to that of NumPy's. This\u001b[39;00m\n\u001b[1;32m   (...)\u001b[0m\n\u001b[0;32m     66\u001b[0m     \u001b[38;5;66;03m# Call _wrapit from within the except clause to ensure a potential\u001b[39;00m\n\u001b[0;32m     67\u001b[0m     \u001b[38;5;66;03m# exception has a traceback chain.\u001b[39;00m\n\u001b[0;32m     68\u001b[0m     \u001b[38;5;28;01mreturn\u001b[39;00m _wrapit(obj, method, \u001b[38;5;241m*\u001b[39margs, \u001b[38;5;241m*\u001b[39m\u001b[38;5;241m*\u001b[39mkwds)\n",
      "\u001b[1;31mValueError\u001b[0m: object too deep for desired array"
     ]
    }
   ],
   "source": [
    "np.searchsorted(m,2)"
   ]
  },
  {
   "cell_type": "code",
   "execution_count": null,
   "id": "c54c9857-6899-46f7-8996-5db6d248c917",
   "metadata": {},
   "outputs": [],
   "source": []
  },
  {
   "cell_type": "markdown",
   "id": "8d42009d-7571-46c1-b04c-117912ecd23d",
   "metadata": {},
   "source": [
    "### sort"
   ]
  },
  {
   "cell_type": "code",
   "execution_count": null,
   "id": "7bf1b5bc-a310-42f5-b7d8-4cf66bdb0d1c",
   "metadata": {},
   "outputs": [],
   "source": [
    "var1"
   ]
  },
  {
   "cell_type": "code",
   "execution_count": null,
   "id": "e9e7e49a-9085-42fd-b44d-311f490bc24e",
   "metadata": {},
   "outputs": [],
   "source": [
    "var20=np.random.randint(1,100,6)"
   ]
  },
  {
   "cell_type": "code",
   "execution_count": 186,
   "id": "341ea9c6-6556-4fde-aa0b-dbe738fa8715",
   "metadata": {},
   "outputs": [
    {
     "data": {
      "text/plain": [
       "array([57, 71, 72, 74, 83, 56])"
      ]
     },
     "execution_count": 186,
     "metadata": {},
     "output_type": "execute_result"
    }
   ],
   "source": [
    "var20"
   ]
  },
  {
   "cell_type": "code",
   "execution_count": 187,
   "id": "74edf804-4b24-4e6d-b812-a57945c76a0b",
   "metadata": {},
   "outputs": [
    {
     "data": {
      "text/plain": [
       "array([56, 57, 71, 72, 74, 83])"
      ]
     },
     "execution_count": 187,
     "metadata": {},
     "output_type": "execute_result"
    }
   ],
   "source": [
    "np.sort(var20)"
   ]
  },
  {
   "cell_type": "markdown",
   "id": "d95e1a3b-2e92-42cc-9cde-bcc2230f08a6",
   "metadata": {},
   "source": [
    "### with letters"
   ]
  },
  {
   "cell_type": "code",
   "execution_count": 188,
   "id": "40aeac44-1aac-4198-9e6e-cc282fc1be65",
   "metadata": {},
   "outputs": [
    {
     "data": {
      "text/plain": [
       "array(['f', 'a', 'b'], dtype='<U1')"
      ]
     },
     "execution_count": 188,
     "metadata": {},
     "output_type": "execute_result"
    }
   ],
   "source": [
    "nn=np.array(['f','a','b'])\n",
    "nn"
   ]
  },
  {
   "cell_type": "code",
   "execution_count": 189,
   "id": "be5cb066-c1b2-40a7-9370-ceec4815f0cd",
   "metadata": {},
   "outputs": [
    {
     "data": {
      "text/plain": [
       "array(['a', 'b', 'f'], dtype='<U1')"
      ]
     },
     "execution_count": 189,
     "metadata": {},
     "output_type": "execute_result"
    }
   ],
   "source": [
    "np.sort(nn)#small letter has higher ascii value than capital"
   ]
  },
  {
   "cell_type": "code",
   "execution_count": null,
   "id": "1435c426-d456-47a3-b07f-65f33a2778fe",
   "metadata": {},
   "outputs": [],
   "source": []
  },
  {
   "cell_type": "markdown",
   "id": "421af58d-d505-4cf1-b844-5b3d304451e0",
   "metadata": {},
   "source": [
    "### 2D:SORT EACH ROW"
   ]
  },
  {
   "cell_type": "code",
   "execution_count": 190,
   "id": "fbf3f9f7-2e64-487d-b196-687170b472f2",
   "metadata": {},
   "outputs": [
    {
     "data": {
      "text/plain": [
       "array([[71, 72, 74, 83],\n",
       "       [56, 54, 86, 95],\n",
       "       [80, 37, 92, 60],\n",
       "       [52,  9, 38, 73]])"
      ]
     },
     "execution_count": 190,
     "metadata": {},
     "output_type": "execute_result"
    }
   ],
   "source": [
    "var66=np.random.randint(1,100,(4,4))\n",
    "var66"
   ]
  },
  {
   "cell_type": "code",
   "execution_count": 191,
   "id": "7e1f7083-c248-44b5-828d-2049cf8298f4",
   "metadata": {},
   "outputs": [
    {
     "data": {
      "text/plain": [
       "array([[71, 72, 74, 83],\n",
       "       [54, 56, 86, 95],\n",
       "       [37, 60, 80, 92],\n",
       "       [ 9, 38, 52, 73]])"
      ]
     },
     "execution_count": 191,
     "metadata": {},
     "output_type": "execute_result"
    }
   ],
   "source": [
    "np.sort(var66)#each row"
   ]
  },
  {
   "cell_type": "code",
   "execution_count": 192,
   "id": "bd395d17-92a6-4a86-bad2-edb32821d1b5",
   "metadata": {},
   "outputs": [
    {
     "data": {
      "text/plain": [
       "array([[52,  9, 38, 60],\n",
       "       [56, 37, 74, 73],\n",
       "       [71, 54, 86, 83],\n",
       "       [80, 72, 92, 95]])"
      ]
     },
     "execution_count": 192,
     "metadata": {},
     "output_type": "execute_result"
    }
   ],
   "source": [
    "np.sort(var66,axis=0)#each column"
   ]
  },
  {
   "cell_type": "code",
   "execution_count": null,
   "id": "86993e27-dcbd-487d-b2a6-b9bb4b92b2f1",
   "metadata": {},
   "outputs": [],
   "source": []
  },
  {
   "cell_type": "markdown",
   "id": "fee0a269-39ce-4e76-ae35-5a243b26064e",
   "metadata": {},
   "source": [
    "### filter"
   ]
  },
  {
   "cell_type": "markdown",
   "id": "f72946cc-2fb0-4d90-87b8-dc9b99d91ff0",
   "metadata": {},
   "source": [
    "### use true false to filter the array"
   ]
  },
  {
   "cell_type": "code",
   "execution_count": 193,
   "id": "bf99b8e0-f2d8-4b1f-9647-16cbe6ad96f1",
   "metadata": {},
   "outputs": [
    {
     "data": {
      "text/plain": [
       "array([1, 2, 3, 4, 5, 6, 7, 8, 9])"
      ]
     },
     "execution_count": 193,
     "metadata": {},
     "output_type": "execute_result"
    }
   ],
   "source": [
    "var1"
   ]
  },
  {
   "cell_type": "code",
   "execution_count": 194,
   "id": "2d0b465e-1ee7-4bff-abd7-8e6ff0f5c1ba",
   "metadata": {},
   "outputs": [
    {
     "data": {
      "text/plain": [
       "array([1, 3, 5])"
      ]
     },
     "execution_count": 194,
     "metadata": {},
     "output_type": "execute_result"
    }
   ],
   "source": [
    "x=[True,False,True,False,True,False,False,False,False]\n",
    "var1[x]"
   ]
  },
  {
   "cell_type": "code",
   "execution_count": null,
   "id": "8301c633-c544-4aa2-bb2b-5c2fc5be9ec0",
   "metadata": {},
   "outputs": [],
   "source": []
  },
  {
   "cell_type": "markdown",
   "id": "fd276d0c-3218-4cad-a693-a0323354abe0",
   "metadata": {},
   "source": [
    "### SHUFFLE RESIZE OR RAVEL"
   ]
  },
  {
   "cell_type": "markdown",
   "id": "4efa728b-bb39-4c93-9f59-8ae896dd70a6",
   "metadata": {},
   "source": [
    "### SHUFFLE"
   ]
  },
  {
   "cell_type": "code",
   "execution_count": 195,
   "id": "ea551650-cfec-4fdc-86ae-80c3e66685d4",
   "metadata": {},
   "outputs": [
    {
     "data": {
      "text/plain": [
       "array([1, 2, 3, 4, 5, 6, 7, 8, 9])"
      ]
     },
     "execution_count": 195,
     "metadata": {},
     "output_type": "execute_result"
    }
   ],
   "source": [
    "dd=np.arange(1,10)\n",
    "dd"
   ]
  },
  {
   "cell_type": "code",
   "execution_count": 196,
   "id": "7c8a88b9-7115-4967-af72-4ff4fa53db75",
   "metadata": {},
   "outputs": [],
   "source": [
    "np.random.shuffle(dd)"
   ]
  },
  {
   "cell_type": "code",
   "execution_count": 197,
   "id": "946516b1-39cd-487d-9b4d-0d33512a49a3",
   "metadata": {},
   "outputs": [
    {
     "data": {
      "text/plain": [
       "array([3, 2, 6, 9, 4, 5, 1, 8, 7])"
      ]
     },
     "execution_count": 197,
     "metadata": {},
     "output_type": "execute_result"
    }
   ],
   "source": [
    "dd"
   ]
  },
  {
   "cell_type": "code",
   "execution_count": null,
   "id": "b3e31d3c-61f6-47f0-9bcb-2037da057b0d",
   "metadata": {},
   "outputs": [],
   "source": []
  },
  {
   "cell_type": "markdown",
   "id": "5739ae32-c182-4a18-8998-120e146c6dc6",
   "metadata": {},
   "source": [
    "### UNIQUE"
   ]
  },
  {
   "cell_type": "code",
   "execution_count": 198,
   "id": "ca4ec28e-62e5-47f4-b50b-0c71c3c7c565",
   "metadata": {},
   "outputs": [
    {
     "data": {
      "text/plain": [
       "array([1, 2, 1, 2, 2, 2, 1, 1, 1, 2])"
      ]
     },
     "execution_count": 198,
     "metadata": {},
     "output_type": "execute_result"
    }
   ],
   "source": [
    "arra=np.random.randint(1,3,10)\n",
    "arra"
   ]
  },
  {
   "cell_type": "code",
   "execution_count": 199,
   "id": "745b50a4-fad0-4785-a3bd-86ed5b05e221",
   "metadata": {},
   "outputs": [
    {
     "data": {
      "text/plain": [
       "array([1, 2])"
      ]
     },
     "execution_count": 199,
     "metadata": {},
     "output_type": "execute_result"
    }
   ],
   "source": [
    "np.unique(arra)"
   ]
  },
  {
   "cell_type": "code",
   "execution_count": null,
   "id": "c1edaf6a-dd9a-428c-92bb-ca57cc7d04e2",
   "metadata": {},
   "outputs": [],
   "source": []
  },
  {
   "cell_type": "markdown",
   "id": "7153974a-1f6e-444a-931b-09c49ddcf1a2",
   "metadata": {},
   "source": [
    "### with index and counts"
   ]
  },
  {
   "cell_type": "code",
   "execution_count": 200,
   "id": "0ef0bf3d-f42a-4f72-a0d6-c7603fc74852",
   "metadata": {},
   "outputs": [
    {
     "data": {
      "text/plain": [
       "(array([1, 2]), array([0, 1], dtype=int64), array([5, 5], dtype=int64))"
      ]
     },
     "execution_count": 200,
     "metadata": {},
     "output_type": "execute_result"
    }
   ],
   "source": [
    "np.unique(arra,return_index=True,return_counts=True)"
   ]
  },
  {
   "cell_type": "code",
   "execution_count": null,
   "id": "bcae733b-030f-4f0d-97da-dee78c2111e1",
   "metadata": {},
   "outputs": [],
   "source": []
  },
  {
   "cell_type": "code",
   "execution_count": null,
   "id": "9e391b59-42aa-4886-899d-3683dfc072b8",
   "metadata": {},
   "outputs": [],
   "source": []
  },
  {
   "cell_type": "markdown",
   "id": "aacb2b58-e6a0-4258-b0db-4c62a352c8d7",
   "metadata": {},
   "source": [
    "### RESIZE"
   ]
  },
  {
   "cell_type": "code",
   "execution_count": 201,
   "id": "dac95987-aa7d-4fa1-a56d-308f14591606",
   "metadata": {},
   "outputs": [
    {
     "data": {
      "text/plain": [
       "array([[1, 2],\n",
       "       [1, 2]])"
      ]
     },
     "execution_count": 201,
     "metadata": {},
     "output_type": "execute_result"
    }
   ],
   "source": [
    "np.resize(arra,(2,2))"
   ]
  },
  {
   "cell_type": "code",
   "execution_count": null,
   "id": "fcdf8550-309a-47b9-b865-f58b217d4f8c",
   "metadata": {},
   "outputs": [],
   "source": []
  },
  {
   "cell_type": "markdown",
   "id": "4d42d0d7-6a82-4ddf-9b7c-d213153e0dee",
   "metadata": {},
   "source": [
    "### TO CHANGE 2D TO 1D:RAVEL AND FLATTEN"
   ]
  },
  {
   "cell_type": "code",
   "execution_count": 202,
   "id": "576d6e93-9399-4839-b83a-4f78a5987aac",
   "metadata": {},
   "outputs": [],
   "source": [
    "a=np.array([[3,2,4],[5,4,3]])"
   ]
  },
  {
   "cell_type": "code",
   "execution_count": 203,
   "id": "b96415d5-3ddb-41d2-9657-ca0075cd505a",
   "metadata": {},
   "outputs": [
    {
     "data": {
      "text/plain": [
       "array([[3, 2, 4],\n",
       "       [5, 4, 3]])"
      ]
     },
     "execution_count": 203,
     "metadata": {},
     "output_type": "execute_result"
    }
   ],
   "source": [
    "a"
   ]
  },
  {
   "cell_type": "code",
   "execution_count": 204,
   "id": "3db788f5-a309-48b1-86cd-54329bb6436d",
   "metadata": {},
   "outputs": [
    {
     "data": {
      "text/plain": [
       "array([3, 2, 4, 5, 4, 3])"
      ]
     },
     "execution_count": 204,
     "metadata": {},
     "output_type": "execute_result"
    }
   ],
   "source": [
    "a.flatten()"
   ]
  },
  {
   "cell_type": "code",
   "execution_count": 205,
   "id": "d222836e-85d1-4867-9aac-00567bca06b4",
   "metadata": {},
   "outputs": [
    {
     "data": {
      "text/plain": [
       "array([3, 2, 4, 5, 4, 3])"
      ]
     },
     "execution_count": 205,
     "metadata": {},
     "output_type": "execute_result"
    }
   ],
   "source": [
    "a.ravel()"
   ]
  },
  {
   "cell_type": "markdown",
   "id": "17ecdf29-28e6-4e26-86e5-709e8681fc69",
   "metadata": {},
   "source": [
    "### IT IS DONE ROW WISE"
   ]
  },
  {
   "cell_type": "code",
   "execution_count": null,
   "id": "a87570e1-f18a-45c0-9d34-222ea47d5d07",
   "metadata": {},
   "outputs": [],
   "source": []
  },
  {
   "cell_type": "markdown",
   "id": "d62ff069-e77f-4c3a-892f-79127c71eef9",
   "metadata": {},
   "source": [
    "### FOR COLUMN WISE ORDERS='F'"
   ]
  },
  {
   "cell_type": "code",
   "execution_count": 206,
   "id": "cc294e32-ee73-4bcf-b776-47bcfcdea5c2",
   "metadata": {},
   "outputs": [
    {
     "data": {
      "text/plain": [
       "array([3, 5, 2, 4, 4, 3])"
      ]
     },
     "execution_count": 206,
     "metadata": {},
     "output_type": "execute_result"
    }
   ],
   "source": [
    "a.ravel(order='F')"
   ]
  },
  {
   "cell_type": "markdown",
   "id": "839846e1-3bbd-4061-b58a-aede5428e8e3",
   "metadata": {},
   "source": [
    "### INSERT AND DELETE"
   ]
  },
  {
   "cell_type": "code",
   "execution_count": 207,
   "id": "18bb9fec-4d6e-46e3-911e-fb4d019b8651",
   "metadata": {},
   "outputs": [
    {
     "data": {
      "text/plain": [
       "array([[3, 2, 4],\n",
       "       [5, 4, 3]])"
      ]
     },
     "execution_count": 207,
     "metadata": {},
     "output_type": "execute_result"
    }
   ],
   "source": [
    "a"
   ]
  },
  {
   "cell_type": "code",
   "execution_count": null,
   "id": "8a9c0e9f-8ea6-43b5-885e-bf2372092ba7",
   "metadata": {},
   "outputs": [],
   "source": []
  },
  {
   "cell_type": "markdown",
   "id": "5ece28fd-16a6-4f00-b128-06a8be6f31ef",
   "metadata": {},
   "source": [
    "# 1 value"
   ]
  },
  {
   "cell_type": "code",
   "execution_count": 208,
   "id": "b8b718c0-a627-4532-bd27-85ac0afcc1bd",
   "metadata": {},
   "outputs": [
    {
     "data": {
      "text/plain": [
       "array([3, 2, 4, 4, 5, 4, 3])"
      ]
     },
     "execution_count": 208,
     "metadata": {},
     "output_type": "execute_result"
    }
   ],
   "source": [
    "np.insert(a,3,4)#(var,pos,number)"
   ]
  },
  {
   "cell_type": "code",
   "execution_count": 209,
   "id": "7ea6765f-9452-4db0-a5b7-53c6faf1eeb3",
   "metadata": {},
   "outputs": [
    {
     "data": {
      "text/plain": [
       "array([[3, 2, 4],\n",
       "       [5, 4, 3]])"
      ]
     },
     "execution_count": 209,
     "metadata": {},
     "output_type": "execute_result"
    }
   ],
   "source": [
    "a"
   ]
  },
  {
   "cell_type": "markdown",
   "id": "e455a5ff-55b2-4c65-9bd5-fa84f83c83e2",
   "metadata": {},
   "source": [
    "### multiple value"
   ]
  },
  {
   "cell_type": "code",
   "execution_count": null,
   "id": "0ce2639d-7338-4ba7-9d45-cf3a5e1be018",
   "metadata": {},
   "outputs": [],
   "source": []
  },
  {
   "cell_type": "code",
   "execution_count": 210,
   "id": "cc9ab3a7-7705-4872-ac2c-16e1505b2be4",
   "metadata": {},
   "outputs": [
    {
     "data": {
      "text/plain": [
       "array([3, 2, 4, 3, 4, 5, 4, 3])"
      ]
     },
     "execution_count": 210,
     "metadata": {},
     "output_type": "execute_result"
    }
   ],
   "source": [
    "np.insert(a,(3),(3,4))"
   ]
  },
  {
   "cell_type": "markdown",
   "id": "d62e4289-2e6d-4715-94c3-68bee12a5f0a",
   "metadata": {},
   "source": [
    "### 2d"
   ]
  },
  {
   "cell_type": "code",
   "execution_count": 211,
   "id": "e2b43f4b-728b-4862-9512-f21623da40ec",
   "metadata": {},
   "outputs": [],
   "source": [
    "arr33=np.random.randint(1,100,(4,4))"
   ]
  },
  {
   "cell_type": "code",
   "execution_count": 212,
   "id": "1ad09ba7-d7da-4091-95e8-1df76aa749f8",
   "metadata": {},
   "outputs": [
    {
     "data": {
      "text/plain": [
       "array([[ 4,  5, 40, 55],\n",
       "       [71, 41, 97, 68],\n",
       "       [54, 23, 18, 28],\n",
       "       [98, 61, 44, 87]])"
      ]
     },
     "execution_count": 212,
     "metadata": {},
     "output_type": "execute_result"
    }
   ],
   "source": [
    "arr33"
   ]
  },
  {
   "cell_type": "code",
   "execution_count": 213,
   "id": "4d4c299b-126e-42b7-a9f2-59801181dfb9",
   "metadata": {},
   "outputs": [
    {
     "data": {
      "text/plain": [
       "array([ 4,  5, 40, 55,  3,  3,  3,  3, 71, 41, 97, 68, 54, 23, 18, 28, 98,\n",
       "       61, 44, 87])"
      ]
     },
     "execution_count": 213,
     "metadata": {},
     "output_type": "execute_result"
    }
   ],
   "source": [
    "np.insert(arr33,4,(3,3,3,3))#changes to 1d array if axis not given"
   ]
  },
  {
   "cell_type": "code",
   "execution_count": 214,
   "id": "4ed9146d-0c26-4e52-a5c3-509b88ff70e3",
   "metadata": {},
   "outputs": [
    {
     "data": {
      "text/plain": [
       "array([[ 4,  5, 40, 55],\n",
       "       [71, 41, 97, 68],\n",
       "       [54, 23, 18, 28],\n",
       "       [98, 61, 44, 87],\n",
       "       [ 3,  3,  3,  3]])"
      ]
     },
     "execution_count": 214,
     "metadata": {},
     "output_type": "execute_result"
    }
   ],
   "source": [
    "np.insert(arr33,4,(3,3,3,3),axis=0)#axis=0 adds to new row"
   ]
  },
  {
   "cell_type": "code",
   "execution_count": 215,
   "id": "84c8cdae-d184-49f4-b686-bfffa6da1d55",
   "metadata": {},
   "outputs": [
    {
     "data": {
      "text/plain": [
       "array([[ 4,  5, 40, 55,  3],\n",
       "       [71, 41, 97, 68,  3],\n",
       "       [54, 23, 18, 28,  3],\n",
       "       [98, 61, 44, 87,  3]])"
      ]
     },
     "execution_count": 215,
     "metadata": {},
     "output_type": "execute_result"
    }
   ],
   "source": [
    "np.insert(arr33,4,(3,3,3,3),axis=1)"
   ]
  },
  {
   "cell_type": "code",
   "execution_count": null,
   "id": "f54f941a-4236-4cab-81ff-9b9a74bbcf50",
   "metadata": {},
   "outputs": [],
   "source": []
  },
  {
   "cell_type": "code",
   "execution_count": null,
   "id": "1af36ae3-a4f8-4828-af1e-f94d906b2490",
   "metadata": {},
   "outputs": [],
   "source": []
  },
  {
   "cell_type": "markdown",
   "id": "abecfae6-f372-40da-974c-16db5f56a312",
   "metadata": {},
   "source": [
    "### APPEND"
   ]
  },
  {
   "cell_type": "code",
   "execution_count": 216,
   "id": "7f4becdd-98d6-4f45-b3b2-5425da9fbfbd",
   "metadata": {},
   "outputs": [
    {
     "data": {
      "text/plain": [
       "array([[3, 2, 4],\n",
       "       [5, 4, 3]])"
      ]
     },
     "execution_count": 216,
     "metadata": {},
     "output_type": "execute_result"
    }
   ],
   "source": [
    "a"
   ]
  },
  {
   "cell_type": "code",
   "execution_count": 217,
   "id": "7239342f-9a0a-4fe2-be49-0accd7078169",
   "metadata": {},
   "outputs": [
    {
     "data": {
      "text/plain": [
       "array([3, 2, 4, 5, 4, 3, 4, 5, 6])"
      ]
     },
     "execution_count": 217,
     "metadata": {},
     "output_type": "execute_result"
    }
   ],
   "source": [
    "np.append(a,(4,5,6))#adds to last place"
   ]
  },
  {
   "cell_type": "code",
   "execution_count": 218,
   "id": "a1b37c81-e830-4a98-8579-e980e5e2027c",
   "metadata": {},
   "outputs": [
    {
     "data": {
      "text/plain": [
       "array([[ 4,  5, 40, 55],\n",
       "       [71, 41, 97, 68],\n",
       "       [54, 23, 18, 28],\n",
       "       [98, 61, 44, 87]])"
      ]
     },
     "execution_count": 218,
     "metadata": {},
     "output_type": "execute_result"
    }
   ],
   "source": [
    "arr33"
   ]
  },
  {
   "cell_type": "code",
   "execution_count": null,
   "id": "e3b5d01f-7d46-43d0-8e67-b5e844866947",
   "metadata": {},
   "outputs": [],
   "source": []
  },
  {
   "cell_type": "code",
   "execution_count": 219,
   "id": "4b139f5f-aa5f-4599-bead-d403e5236e22",
   "metadata": {},
   "outputs": [
    {
     "data": {
      "text/plain": [
       "array([ 4,  5, 40, 55, 71, 41, 97, 68, 54, 23, 18, 28, 98, 61, 44, 87,  4,\n",
       "        5,  6, 65])"
      ]
     },
     "execution_count": 219,
     "metadata": {},
     "output_type": "execute_result"
    }
   ],
   "source": [
    "np.append(arr33,(4,5,6,65))#makes 1d if axis not given"
   ]
  },
  {
   "cell_type": "code",
   "execution_count": 220,
   "id": "8f358af5-5274-4dd0-a561-86029b9b51a8",
   "metadata": {},
   "outputs": [
    {
     "data": {
      "text/plain": [
       "array([[ 4,  5, 40, 55],\n",
       "       [71, 41, 97, 68],\n",
       "       [54, 23, 18, 28],\n",
       "       [98, 61, 44, 87]])"
      ]
     },
     "execution_count": 220,
     "metadata": {},
     "output_type": "execute_result"
    }
   ],
   "source": [
    "arr33"
   ]
  },
  {
   "cell_type": "code",
   "execution_count": null,
   "id": "37974045-76af-454d-9fe0-04f810acbce5",
   "metadata": {},
   "outputs": [],
   "source": []
  },
  {
   "cell_type": "code",
   "execution_count": 221,
   "id": "f393f9f0-73f2-456e-b8da-9ba73dd2195c",
   "metadata": {},
   "outputs": [
    {
     "data": {
      "text/plain": [
       "array([[ 4,  5, 40, 55],\n",
       "       [71, 41, 97, 68],\n",
       "       [54, 23, 18, 28],\n",
       "       [98, 61, 44, 87],\n",
       "       [ 4,  5,  6, 65]])"
      ]
     },
     "execution_count": 221,
     "metadata": {},
     "output_type": "execute_result"
    }
   ],
   "source": [
    "np.append(arr33,[[4,5,6,65]],axis=0)#double big brackets are used"
   ]
  },
  {
   "cell_type": "code",
   "execution_count": 222,
   "id": "2be95fc5-114f-438a-a521-af7749fefeb6",
   "metadata": {},
   "outputs": [
    {
     "data": {
      "text/plain": [
       "array([[ 4,  5, 40, 55],\n",
       "       [71, 41, 97, 68],\n",
       "       [54, 23, 18, 28],\n",
       "       [98, 61, 44, 87]])"
      ]
     },
     "execution_count": 222,
     "metadata": {},
     "output_type": "execute_result"
    }
   ],
   "source": [
    "arr33"
   ]
  },
  {
   "cell_type": "code",
   "execution_count": 227,
   "id": "758f5241-717b-4b64-afd1-1844d9eb6136",
   "metadata": {},
   "outputs": [
    {
     "data": {
      "text/plain": [
       "array([[ 4,  5, 40, 55,  4],\n",
       "       [71, 41, 97, 68,  5],\n",
       "       [54, 23, 18, 28,  6],\n",
       "       [98, 61, 44, 87,  6]])"
      ]
     },
     "execution_count": 227,
     "metadata": {},
     "output_type": "execute_result"
    }
   ],
   "source": [
    "np.append(arr33,[[4],[5],[6],[6]],axis=1)#each digit is covered with brackets"
   ]
  },
  {
   "cell_type": "code",
   "execution_count": null,
   "id": "5ff7376d-bce3-458e-904f-ea5798366100",
   "metadata": {},
   "outputs": [],
   "source": []
  },
  {
   "cell_type": "code",
   "execution_count": null,
   "id": "df90afd5-b55d-4652-a601-8ff2a811f81f",
   "metadata": {},
   "outputs": [],
   "source": []
  },
  {
   "cell_type": "markdown",
   "id": "a868b424-09ac-41e4-8391-e3446dae60f8",
   "metadata": {},
   "source": [
    "### DELETE"
   ]
  },
  {
   "cell_type": "code",
   "execution_count": 228,
   "id": "24d2dc86-58ce-428e-8da5-e53c11cb40ad",
   "metadata": {},
   "outputs": [
    {
     "data": {
      "text/plain": [
       "array([[3, 2, 4],\n",
       "       [5, 4, 3]])"
      ]
     },
     "execution_count": 228,
     "metadata": {},
     "output_type": "execute_result"
    }
   ],
   "source": [
    "a"
   ]
  },
  {
   "cell_type": "code",
   "execution_count": null,
   "id": "ea706558-dc70-4948-96f6-0aaaea8f7c7f",
   "metadata": {},
   "outputs": [],
   "source": []
  },
  {
   "cell_type": "code",
   "execution_count": 229,
   "id": "67d81cee-5a78-4d5e-821c-9abf720891e7",
   "metadata": {},
   "outputs": [
    {
     "data": {
      "text/plain": [
       "array([3, 4, 5, 4, 3])"
      ]
     },
     "execution_count": 229,
     "metadata": {},
     "output_type": "execute_result"
    }
   ],
   "source": [
    "np.delete(a,1)#delete and changes to 1d array with "
   ]
  },
  {
   "cell_type": "code",
   "execution_count": 230,
   "id": "55949833-6259-4348-b5cc-49710015aa25",
   "metadata": {},
   "outputs": [
    {
     "data": {
      "text/plain": [
       "array([[3, 4],\n",
       "       [5, 3]])"
      ]
     },
     "execution_count": 230,
     "metadata": {},
     "output_type": "execute_result"
    }
   ],
   "source": [
    "np.delete(a,1,axis=1)#delete the whole column of 1 index"
   ]
  },
  {
   "cell_type": "code",
   "execution_count": 232,
   "id": "f4eb18c4-13dc-4e32-8b01-86b065155bbe",
   "metadata": {},
   "outputs": [
    {
     "data": {
      "text/plain": [
       "array([[3, 2, 4]])"
      ]
     },
     "execution_count": 232,
     "metadata": {},
     "output_type": "execute_result"
    }
   ],
   "source": [
    "np.delete(a,1,axis=0)"
   ]
  },
  {
   "cell_type": "code",
   "execution_count": null,
   "id": "d8d4c940-8854-433a-b3cf-8fcf27356898",
   "metadata": {},
   "outputs": [],
   "source": []
  },
  {
   "cell_type": "code",
   "execution_count": null,
   "id": "0d3c6bcf-77ba-49e7-b33a-312d03256fa5",
   "metadata": {},
   "outputs": [],
   "source": []
  },
  {
   "cell_type": "markdown",
   "id": "8c38763f-1e32-42d0-9837-8606b3f3d139",
   "metadata": {},
   "source": [
    "### MATRIX"
   ]
  },
  {
   "cell_type": "code",
   "execution_count": 250,
   "id": "3792a88d-eddc-44ef-89ac-86f0ef5e71a7",
   "metadata": {},
   "outputs": [],
   "source": [
    "mat=np.matrix([[3,3],[5,5]])"
   ]
  },
  {
   "cell_type": "code",
   "execution_count": 242,
   "id": "566084ce-7390-46cb-b94d-7f4315d69bfd",
   "metadata": {},
   "outputs": [
    {
     "data": {
      "text/plain": [
       "matrix([[1, 2],\n",
       "        [4, 4]])"
      ]
     },
     "execution_count": 242,
     "metadata": {},
     "output_type": "execute_result"
    }
   ],
   "source": [
    "mat"
   ]
  },
  {
   "cell_type": "code",
   "execution_count": 251,
   "id": "1ec4cb3c-19b1-4de4-a493-cce60fd7cfa9",
   "metadata": {},
   "outputs": [],
   "source": [
    "mat2=np.matrix([[4,4],[6,6]])"
   ]
  },
  {
   "cell_type": "code",
   "execution_count": 252,
   "id": "d62c5051-3616-4430-999f-bda5c6198ae0",
   "metadata": {},
   "outputs": [
    {
     "data": {
      "text/plain": [
       "matrix([[ 7,  7],\n",
       "        [11, 11]])"
      ]
     },
     "execution_count": 252,
     "metadata": {},
     "output_type": "execute_result"
    }
   ],
   "source": [
    "mat+mat2"
   ]
  },
  {
   "cell_type": "markdown",
   "id": "8a4f4a5f-4f9e-45b2-9970-18d01f2aafbd",
   "metadata": {},
   "source": [
    "### ALL ARE SAME EXCEPT THE MULTIPLICATION"
   ]
  },
  {
   "cell_type": "code",
   "execution_count": 253,
   "id": "fb297a56-90ed-4feb-b940-a3d8c531bc74",
   "metadata": {},
   "outputs": [
    {
     "data": {
      "text/plain": [
       "matrix([[30, 30],\n",
       "        [50, 50]])"
      ]
     },
     "execution_count": 253,
     "metadata": {},
     "output_type": "execute_result"
    }
   ],
   "source": [
    "mat*mat2"
   ]
  },
  {
   "cell_type": "code",
   "execution_count": 254,
   "id": "7e7620fb-56c7-4495-810e-56a428fac365",
   "metadata": {},
   "outputs": [
    {
     "data": {
      "text/plain": [
       "matrix([[30, 30],\n",
       "        [50, 50]])"
      ]
     },
     "execution_count": 254,
     "metadata": {},
     "output_type": "execute_result"
    }
   ],
   "source": [
    "mat.dot(mat2)"
   ]
  },
  {
   "cell_type": "code",
   "execution_count": 257,
   "id": "97a8be33-4883-49ec-94ec-278c47ea068f",
   "metadata": {},
   "outputs": [],
   "source": [
    "n=np.matrix([[1,2,3],[4,4,4],[5,5,5]])"
   ]
  },
  {
   "cell_type": "code",
   "execution_count": 258,
   "id": "f1001d30-98e2-44a9-a841-c865488730cc",
   "metadata": {},
   "outputs": [],
   "source": [
    "m=np.matrix([[1],[2],[4]])"
   ]
  },
  {
   "cell_type": "code",
   "execution_count": 268,
   "id": "e5fee892-90dd-4bb3-8aaa-c4f14331d77c",
   "metadata": {},
   "outputs": [
    {
     "data": {
      "text/plain": [
       "matrix([[1],\n",
       "        [2],\n",
       "        [4]])"
      ]
     },
     "execution_count": 268,
     "metadata": {},
     "output_type": "execute_result"
    }
   ],
   "source": [
    "m"
   ]
  },
  {
   "cell_type": "code",
   "execution_count": 269,
   "id": "9647768c-ebf4-4463-bab2-c0757e3cddb5",
   "metadata": {},
   "outputs": [
    {
     "data": {
      "text/plain": [
       "matrix([[1, 2, 3],\n",
       "        [4, 4, 4],\n",
       "        [5, 5, 5]])"
      ]
     },
     "execution_count": 269,
     "metadata": {},
     "output_type": "execute_result"
    }
   ],
   "source": [
    "n"
   ]
  },
  {
   "cell_type": "code",
   "execution_count": 264,
   "id": "ded25acc-e1eb-4974-acfc-24f9fca391c4",
   "metadata": {},
   "outputs": [
    {
     "data": {
      "text/plain": [
       "(3, 3)"
      ]
     },
     "execution_count": 264,
     "metadata": {},
     "output_type": "execute_result"
    }
   ],
   "source": [
    "n.shape"
   ]
  },
  {
   "cell_type": "code",
   "execution_count": 266,
   "id": "8935a1a2-8ef2-4bf1-ba1a-1a1d6a3d68a6",
   "metadata": {},
   "outputs": [
    {
     "data": {
      "text/plain": [
       "2"
      ]
     },
     "execution_count": 266,
     "metadata": {},
     "output_type": "execute_result"
    }
   ],
   "source": [
    "m.ndim#the rule is column of first matrix must be equal to rows of second"
   ]
  },
  {
   "cell_type": "code",
   "execution_count": 270,
   "id": "d5dd4932-854a-400c-992e-981ba5d385ae",
   "metadata": {},
   "outputs": [
    {
     "data": {
      "text/plain": [
       "matrix([[17],\n",
       "        [28],\n",
       "        [35]])"
      ]
     },
     "execution_count": 270,
     "metadata": {},
     "output_type": "execute_result"
    }
   ],
   "source": [
    "np.dot(n,m)"
   ]
  },
  {
   "cell_type": "code",
   "execution_count": 272,
   "id": "26d800e4-9c25-46ad-a6c4-ac6ae35dd0f0",
   "metadata": {},
   "outputs": [
    {
     "data": {
      "text/plain": [
       "matrix([[1],\n",
       "        [2],\n",
       "        [4]])"
      ]
     },
     "execution_count": 272,
     "metadata": {},
     "output_type": "execute_result"
    }
   ],
   "source": [
    "m"
   ]
  },
  {
   "cell_type": "markdown",
   "id": "d3828ae5-c19d-4296-b869-0e85a9fa9701",
   "metadata": {},
   "source": [
    "### TRANSPOSE"
   ]
  },
  {
   "cell_type": "code",
   "execution_count": 271,
   "id": "55b69f7a-3a1a-48bb-af24-1f0b9d414493",
   "metadata": {},
   "outputs": [
    {
     "data": {
      "text/plain": [
       "matrix([[1, 2, 4]])"
      ]
     },
     "execution_count": 271,
     "metadata": {},
     "output_type": "execute_result"
    }
   ],
   "source": [
    "np.transpose(m)"
   ]
  },
  {
   "cell_type": "code",
   "execution_count": 277,
   "id": "856ab201-8eb6-41ea-ae41-49072f848561",
   "metadata": {},
   "outputs": [
    {
     "data": {
      "text/plain": [
       "matrix([[1, 2, 3],\n",
       "        [4, 4, 4],\n",
       "        [5, 5, 5]])"
      ]
     },
     "execution_count": 277,
     "metadata": {},
     "output_type": "execute_result"
    }
   ],
   "source": [
    "n"
   ]
  },
  {
   "cell_type": "markdown",
   "id": "bab9cdde-2c8e-49b6-8a34-1f21893472fc",
   "metadata": {},
   "source": [
    "### inverse"
   ]
  },
  {
   "cell_type": "code",
   "execution_count": 283,
   "id": "472d0a7a-e443-42b3-bd27-f44b439efc8c",
   "metadata": {},
   "outputs": [
    {
     "data": {
      "text/plain": [
       "matrix([[ 0.00000000e+00,  4.50359963e+15, -3.60287970e+15],\n",
       "        [-1.00000000e+00, -9.00719925e+15,  7.20575940e+15],\n",
       "        [ 1.00000000e+00,  4.50359963e+15, -3.60287970e+15]])"
      ]
     },
     "execution_count": 283,
     "metadata": {},
     "output_type": "execute_result"
    }
   ],
   "source": [
    "inve=np.linalg.inv(n)\n",
    "inve"
   ]
  },
  {
   "cell_type": "code",
   "execution_count": null,
   "id": "27ecd8e0-62b7-4f26-8591-315dbb7934e5",
   "metadata": {},
   "outputs": [],
   "source": []
  },
  {
   "cell_type": "code",
   "execution_count": null,
   "id": "82279f76-1afd-4ccc-a039-decaa2c3ac62",
   "metadata": {},
   "outputs": [],
   "source": []
  },
  {
   "cell_type": "code",
   "execution_count": 279,
   "id": "59c58ce8-fbed-48aa-b336-16898f4cb4b4",
   "metadata": {},
   "outputs": [
    {
     "data": {
      "text/plain": [
       "matrix([[1, 2, 3],\n",
       "        [4, 4, 4],\n",
       "        [5, 5, 5]])"
      ]
     },
     "execution_count": 279,
     "metadata": {},
     "output_type": "execute_result"
    }
   ],
   "source": [
    "n"
   ]
  },
  {
   "cell_type": "markdown",
   "id": "4ae4ee44-7a6f-49e5-b5c2-0c2a56108aaa",
   "metadata": {},
   "source": [
    "## POWER"
   ]
  },
  {
   "cell_type": "code",
   "execution_count": 278,
   "id": "3538c6bb-a938-4cbe-808c-a18764749b70",
   "metadata": {},
   "outputs": [
    {
     "data": {
      "text/plain": [
       "matrix([[24, 25, 26],\n",
       "        [40, 44, 48],\n",
       "        [50, 55, 60]])"
      ]
     },
     "execution_count": 278,
     "metadata": {},
     "output_type": "execute_result"
    }
   ],
   "source": [
    "np.linalg.matrix_power(n,2)#n*n"
   ]
  },
  {
   "cell_type": "code",
   "execution_count": 280,
   "id": "f4a60431-dd60-4bb6-bdad-8a3efe38fc94",
   "metadata": {},
   "outputs": [
    {
     "data": {
      "text/plain": [
       "matrix([[ 0.00000000e+00,  4.50359963e+15, -3.60287970e+15],\n",
       "        [-1.00000000e+00, -9.00719925e+15,  7.20575940e+15],\n",
       "        [ 1.00000000e+00,  4.50359963e+15, -3.60287970e+15]])"
      ]
     },
     "execution_count": 280,
     "metadata": {},
     "output_type": "execute_result"
    }
   ],
   "source": [
    "np.linalg.matrix_power(n,-1)#inv"
   ]
  },
  {
   "cell_type": "code",
   "execution_count": null,
   "id": "7f8f78e8-0795-41d7-840f-d01128e3f746",
   "metadata": {},
   "outputs": [],
   "source": []
  },
  {
   "cell_type": "code",
   "execution_count": 282,
   "id": "552a35e3-72e1-4cb6-892d-6c36e1cb51d3",
   "metadata": {},
   "outputs": [
    {
     "data": {
      "text/plain": [
       "matrix([[-8.10647933e+15, -5.67907469e+31,  4.54325975e+31],\n",
       "        [ 1.62129587e+16,  1.13581494e+32, -9.08651950e+31],\n",
       "        [-8.10647933e+15, -5.67907469e+31,  4.54325975e+31]])"
      ]
     },
     "execution_count": 282,
     "metadata": {},
     "output_type": "execute_result"
    }
   ],
   "source": [
    "np.linalg.matrix_power(n,-2)#inv*inv"
   ]
  },
  {
   "cell_type": "code",
   "execution_count": 284,
   "id": "2f6afa2d-5db3-4884-824f-d70fc31d62d5",
   "metadata": {},
   "outputs": [
    {
     "data": {
      "text/plain": [
       "matrix([[-8.10647933e+15, -5.67907469e+31,  4.54325975e+31],\n",
       "        [ 1.62129587e+16,  1.13581494e+32, -9.08651950e+31],\n",
       "        [-8.10647933e+15, -5.67907469e+31,  4.54325975e+31]])"
      ]
     },
     "execution_count": 284,
     "metadata": {},
     "output_type": "execute_result"
    }
   ],
   "source": [
    "inve*inve"
   ]
  },
  {
   "cell_type": "code",
   "execution_count": null,
   "id": "acfe7803-6be8-4240-9d5f-f03e8386333f",
   "metadata": {},
   "outputs": [],
   "source": []
  },
  {
   "cell_type": "code",
   "execution_count": 286,
   "id": "d1318bc3-465a-4af6-94f5-cd7c14758a04",
   "metadata": {},
   "outputs": [
    {
     "data": {
      "text/plain": [
       "matrix([[1, 0, 0],\n",
       "        [0, 1, 0],\n",
       "        [0, 0, 1]])"
      ]
     },
     "execution_count": 286,
     "metadata": {},
     "output_type": "execute_result"
    }
   ],
   "source": [
    "np.linalg.matrix_power(n,0)#identity matrix"
   ]
  },
  {
   "cell_type": "code",
   "execution_count": 288,
   "id": "fee4fe3a-f8f1-43c5-a79c-064bbab844a3",
   "metadata": {},
   "outputs": [
    {
     "data": {
      "text/plain": [
       "matrix([[1, 2, 3],\n",
       "        [4, 4, 4],\n",
       "        [5, 5, 5]])"
      ]
     },
     "execution_count": 288,
     "metadata": {},
     "output_type": "execute_result"
    }
   ],
   "source": [
    "n"
   ]
  },
  {
   "cell_type": "markdown",
   "id": "6c7bd6f9-7218-4038-ada7-e0401ee5ce9a",
   "metadata": {},
   "source": [
    "## MATRIX FUNCTION"
   ]
  },
  {
   "cell_type": "code",
   "execution_count": 287,
   "id": "6d867b2a-3ac9-4bad-90b1-3a1fbab89af3",
   "metadata": {},
   "outputs": [
    {
     "data": {
      "text/plain": [
       "1"
      ]
     },
     "execution_count": 287,
     "metadata": {},
     "output_type": "execute_result"
    }
   ],
   "source": [
    "np.min(n)#gives minimum among allelements"
   ]
  },
  {
   "cell_type": "code",
   "execution_count": 289,
   "id": "4d026e1e-ef06-4083-8388-4f3f5580f8cc",
   "metadata": {},
   "outputs": [
    {
     "data": {
      "text/plain": [
       "5"
      ]
     },
     "execution_count": 289,
     "metadata": {},
     "output_type": "execute_result"
    }
   ],
   "source": [
    "np.max(n)"
   ]
  },
  {
   "cell_type": "code",
   "execution_count": 294,
   "id": "03c62277-4f0a-481b-af58-0f1423060eb2",
   "metadata": {},
   "outputs": [
    {
     "data": {
      "text/plain": [
       "0"
      ]
     },
     "execution_count": 294,
     "metadata": {},
     "output_type": "execute_result"
    }
   ],
   "source": [
    "np.argmin(n)#gives index for min in 2d and fixed index in 1d. it starts from 1st row 1st three elements and 4th 5th 6th be 2nd row like that"
   ]
  },
  {
   "cell_type": "code",
   "execution_count": 295,
   "id": "17702b34-c4d1-4177-aa27-71c917f133d9",
   "metadata": {},
   "outputs": [
    {
     "data": {
      "text/plain": [
       "6"
      ]
     },
     "execution_count": 295,
     "metadata": {},
     "output_type": "execute_result"
    }
   ],
   "source": [
    "np.argmax(n)#gives index for max in 2d and fixed index in 1d"
   ]
  },
  {
   "cell_type": "code",
   "execution_count": null,
   "id": "544bb281-40f3-401a-85f1-33eca5766e2b",
   "metadata": {},
   "outputs": [],
   "source": []
  },
  {
   "cell_type": "markdown",
   "id": "ddbedc96-866d-40c6-9feb-55da0c06398b",
   "metadata": {},
   "source": [
    "### TO KNOW MAXIMUM OR MIN ELEMENT FROM EACH OR COLUMN"
   ]
  },
  {
   "cell_type": "code",
   "execution_count": 296,
   "id": "1e8b1aab-35e2-43d4-8fbc-0c8a1eb0e6cb",
   "metadata": {},
   "outputs": [
    {
     "data": {
      "text/plain": [
       "matrix([[5, 5, 5]])"
      ]
     },
     "execution_count": 296,
     "metadata": {},
     "output_type": "execute_result"
    }
   ],
   "source": [
    "np.max(n,axis=0)#from each column"
   ]
  },
  {
   "cell_type": "code",
   "execution_count": 298,
   "id": "da04e9dd-efce-490d-8ba8-465d1c7428c5",
   "metadata": {},
   "outputs": [
    {
     "data": {
      "text/plain": [
       "matrix([[3],\n",
       "        [4],\n",
       "        [5]])"
      ]
     },
     "execution_count": 298,
     "metadata": {},
     "output_type": "execute_result"
    }
   ],
   "source": [
    "np.max(n,axis=1)#from each row"
   ]
  },
  {
   "cell_type": "code",
   "execution_count": 300,
   "id": "8d86bb57-9ccd-4f3f-b7cb-1cb5d2d2a0cb",
   "metadata": {},
   "outputs": [
    {
     "data": {
      "text/plain": [
       "matrix([[1],\n",
       "        [4],\n",
       "        [5]])"
      ]
     },
     "execution_count": 300,
     "metadata": {},
     "output_type": "execute_result"
    }
   ],
   "source": [
    "np.min(n,axis=1)\n"
   ]
  },
  {
   "cell_type": "code",
   "execution_count": 301,
   "id": "d74c320a-647e-4d1c-983a-226a9888d939",
   "metadata": {},
   "outputs": [
    {
     "data": {
      "text/plain": [
       "matrix([[1, 2, 3]])"
      ]
     },
     "execution_count": 301,
     "metadata": {},
     "output_type": "execute_result"
    }
   ],
   "source": [
    "np.min(n,axis=0)"
   ]
  },
  {
   "cell_type": "code",
   "execution_count": null,
   "id": "1d48b64f-991c-4f32-93f2-57ba8fb80ec5",
   "metadata": {},
   "outputs": [],
   "source": []
  },
  {
   "cell_type": "markdown",
   "id": "c4d741b7-2346-46f4-a8a9-6c3f2b0ac9ad",
   "metadata": {},
   "source": [
    "### TO FIND SQUAR ROOT ,COS SIN AND TAN"
   ]
  },
  {
   "cell_type": "code",
   "execution_count": 303,
   "id": "59e69216-958a-4991-b14b-b4dbbbc254b8",
   "metadata": {},
   "outputs": [
    {
     "data": {
      "text/plain": [
       "matrix([[1.        , 1.41421356, 1.73205081],\n",
       "        [2.        , 2.        , 2.        ],\n",
       "        [2.23606798, 2.23606798, 2.23606798]])"
      ]
     },
     "execution_count": 303,
     "metadata": {},
     "output_type": "execute_result"
    }
   ],
   "source": [
    "np.sqrt(n)#finds sqrt of each elements of the matrix"
   ]
  },
  {
   "cell_type": "code",
   "execution_count": 305,
   "id": "c2e6e4f1-5b1b-4e6c-a0bf-724b21512114",
   "metadata": {},
   "outputs": [
    {
     "data": {
      "text/plain": [
       "matrix([[ 0.84147098,  0.90929743,  0.14112001],\n",
       "        [-0.7568025 , -0.7568025 , -0.7568025 ],\n",
       "        [-0.95892427, -0.95892427, -0.95892427]])"
      ]
     },
     "execution_count": 305,
     "metadata": {},
     "output_type": "execute_result"
    }
   ],
   "source": [
    "np.sin(n)#find cos sin tan of each elements of the matrix"
   ]
  },
  {
   "cell_type": "code",
   "execution_count": null,
   "id": "597d00e8-6e80-431c-9f88-6084571642b6",
   "metadata": {},
   "outputs": [],
   "source": []
  },
  {
   "cell_type": "markdown",
   "id": "cda0c360-957f-4de3-b269-894e760643c2",
   "metadata": {},
   "source": [
    "### CUMSUM AND RECIPORACOL"
   ]
  },
  {
   "cell_type": "code",
   "execution_count": 325,
   "id": "5a11f760-3b2b-4aec-ba8b-1c88bd1fb2ba",
   "metadata": {},
   "outputs": [],
   "source": [
    "var222=np.random.randint(1,10,(4,4))"
   ]
  },
  {
   "cell_type": "code",
   "execution_count": 326,
   "id": "69fd6792-b75c-40f5-ba2c-f1742032df78",
   "metadata": {},
   "outputs": [
    {
     "data": {
      "text/plain": [
       "array([[6, 3, 8, 6],\n",
       "       [7, 6, 7, 9],\n",
       "       [6, 5, 5, 7],\n",
       "       [3, 3, 2, 4]])"
      ]
     },
     "execution_count": 326,
     "metadata": {},
     "output_type": "execute_result"
    }
   ],
   "source": [
    "var222"
   ]
  },
  {
   "cell_type": "code",
   "execution_count": 327,
   "id": "a7424b65-d931-44c1-8b1c-14fd0a5700a1",
   "metadata": {},
   "outputs": [
    {
     "data": {
      "text/plain": [
       "array([[0, 0, 0, 0],\n",
       "       [0, 0, 0, 0],\n",
       "       [0, 0, 0, 0],\n",
       "       [0, 0, 0, 0]])"
      ]
     },
     "execution_count": 327,
     "metadata": {},
     "output_type": "execute_result"
    }
   ],
   "source": [
    "np.reciprocal(var222)#it finds reciporacal of all elemnt of in int"
   ]
  },
  {
   "cell_type": "code",
   "execution_count": 328,
   "id": "30f8fe0e-b92d-4213-b206-ba77ee82b168",
   "metadata": {},
   "outputs": [],
   "source": [
    "var22=np.random.uniform(1,10,(4,4))#uniform can make all value to float aksi"
   ]
  },
  {
   "cell_type": "code",
   "execution_count": 330,
   "id": "de8502d9-b264-4f59-bc67-97c015c815d0",
   "metadata": {},
   "outputs": [
    {
     "data": {
      "text/plain": [
       "array([[7.78469905, 3.51308748, 2.07619017, 3.04282918],\n",
       "       [7.96574467, 8.08892787, 6.85652576, 3.76674952],\n",
       "       [9.97663591, 3.65169304, 7.01301026, 3.37834459],\n",
       "       [4.80129353, 8.89370116, 6.370821  , 3.52461253]])"
      ]
     },
     "execution_count": 330,
     "metadata": {},
     "output_type": "execute_result"
    }
   ],
   "source": [
    "var22"
   ]
  },
  {
   "cell_type": "code",
   "execution_count": 329,
   "id": "3d5d4d65-ead8-47d3-802c-0bb06a95a60f",
   "metadata": {},
   "outputs": [
    {
     "data": {
      "text/plain": [
       "array([[0.12845712, 0.2846499 , 0.48165145, 0.32864152],\n",
       "       [0.12553754, 0.12362578, 0.14584646, 0.26548089],\n",
       "       [0.10023419, 0.27384558, 0.14259212, 0.29600296],\n",
       "       [0.20827721, 0.11243913, 0.15696564, 0.28371913]])"
      ]
     },
     "execution_count": 329,
     "metadata": {},
     "output_type": "execute_result"
    }
   ],
   "source": [
    "np.reciprocal(var22)"
   ]
  },
  {
   "cell_type": "code",
   "execution_count": null,
   "id": "d6e6e576-f5b3-42cc-9d0c-41d59302c56a",
   "metadata": {},
   "outputs": [],
   "source": []
  },
  {
   "cell_type": "code",
   "execution_count": 331,
   "id": "4b68c094-dd00-40cc-9fa7-a6aabb274e82",
   "metadata": {},
   "outputs": [],
   "source": [
    "vv=np.random.randint(1,100,(3,3))"
   ]
  },
  {
   "cell_type": "code",
   "execution_count": 332,
   "id": "f3c39d50-9533-4faa-95f8-aebe064bc4a5",
   "metadata": {},
   "outputs": [
    {
     "data": {
      "text/plain": [
       "array([[30,  3, 29],\n",
       "       [97, 96, 70],\n",
       "       [ 6, 72,  9]])"
      ]
     },
     "execution_count": 332,
     "metadata": {},
     "output_type": "execute_result"
    }
   ],
   "source": [
    "vv"
   ]
  },
  {
   "cell_type": "code",
   "execution_count": 334,
   "id": "35bf61a5-1317-4d04-ab5e-002d988e623e",
   "metadata": {},
   "outputs": [],
   "source": [
    "vv=vv.astype(float)"
   ]
  },
  {
   "cell_type": "code",
   "execution_count": 335,
   "id": "3049b537-02a6-4d69-9a66-36c3fc710917",
   "metadata": {},
   "outputs": [
    {
     "data": {
      "text/plain": [
       "array([[30.,  3., 29.],\n",
       "       [97., 96., 70.],\n",
       "       [ 6., 72.,  9.]])"
      ]
     },
     "execution_count": 335,
     "metadata": {},
     "output_type": "execute_result"
    }
   ],
   "source": [
    "vv"
   ]
  },
  {
   "cell_type": "code",
   "execution_count": 336,
   "id": "5475dc3e-7a7f-4003-8da3-d16b09175e68",
   "metadata": {},
   "outputs": [
    {
     "data": {
      "text/plain": [
       "array([[0.03333333, 0.33333333, 0.03448276],\n",
       "       [0.01030928, 0.01041667, 0.01428571],\n",
       "       [0.16666667, 0.01388889, 0.11111111]])"
      ]
     },
     "execution_count": 336,
     "metadata": {},
     "output_type": "execute_result"
    }
   ],
   "source": [
    "np.reciprocal(vv)"
   ]
  },
  {
   "cell_type": "markdown",
   "id": "55a14fee-de6c-4641-830f-2d18945a5cbf",
   "metadata": {},
   "source": [
    "### CUMSUM"
   ]
  },
  {
   "cell_type": "markdown",
   "id": "7cda186f-ccbe-4581-9b4c-5a2c6f365b5b",
   "metadata": {},
   "source": [
    "### IT GIVES THE SUM OF CONTINOUS ELEMENTS FROM START"
   ]
  },
  {
   "cell_type": "code",
   "execution_count": 338,
   "id": "a80ace39-929a-4c31-b7bd-2acb33b11d12",
   "metadata": {},
   "outputs": [
    {
     "data": {
      "text/plain": [
       "array([ 30.,  33.,  62., 159., 255., 325., 331., 403., 412.])"
      ]
     },
     "execution_count": 338,
     "metadata": {},
     "output_type": "execute_result"
    }
   ],
   "source": [
    "np.cumsum(vv)#converts to 1d"
   ]
  },
  {
   "cell_type": "code",
   "execution_count": null,
   "id": "aaf9058d-2787-462d-9a03-7ffd34a20824",
   "metadata": {},
   "outputs": [],
   "source": []
  },
  {
   "cell_type": "code",
   "execution_count": 340,
   "id": "3c3430cf-5380-402d-bc4d-4de92be9fb46",
   "metadata": {},
   "outputs": [
    {
     "data": {
      "text/plain": [
       "array([[ 30.,   3.,  29.],\n",
       "       [127.,  99.,  99.],\n",
       "       [133., 171., 108.]])"
      ]
     },
     "execution_count": 340,
     "metadata": {},
     "output_type": "execute_result"
    }
   ],
   "source": [
    "np.cumsum(vv,axis=0)#adds continous in each column"
   ]
  },
  {
   "cell_type": "code",
   "execution_count": 342,
   "id": "c8c6b4b8-d055-4343-adc7-35823989b598",
   "metadata": {},
   "outputs": [
    {
     "data": {
      "text/plain": [
       "array([[ 30.,  33.,  62.],\n",
       "       [ 97., 193., 263.],\n",
       "       [  6.,  78.,  87.]])"
      ]
     },
     "execution_count": 342,
     "metadata": {},
     "output_type": "execute_result"
    }
   ],
   "source": [
    "np.cumsum(vv,axis=1)#adds continous in each row"
   ]
  },
  {
   "cell_type": "code",
   "execution_count": null,
   "id": "92ee9127-ad79-4b45-b4c5-750c32b855cb",
   "metadata": {},
   "outputs": [],
   "source": []
  }
 ],
 "metadata": {
  "kernelspec": {
   "display_name": "Python 3 (ipykernel)",
   "language": "python",
   "name": "python3"
  },
  "language_info": {
   "codemirror_mode": {
    "name": "ipython",
    "version": 3
   },
   "file_extension": ".py",
   "mimetype": "text/x-python",
   "name": "python",
   "nbconvert_exporter": "python",
   "pygments_lexer": "ipython3",
   "version": "3.11.7"
  }
 },
 "nbformat": 4,
 "nbformat_minor": 5
}
